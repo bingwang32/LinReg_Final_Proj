{
 "cells": [
  {
   "cell_type": "markdown",
   "metadata": {},
   "source": [
    "## Linear Regression Final Project: Logistic Regression with Traffic Collision Data\n",
    "### Zachary Barnes and Bing Wang"
   ]
  },
  {
   "cell_type": "markdown",
   "metadata": {},
   "source": [
    "##### Housekeeping"
   ]
  },
  {
   "cell_type": "code",
   "execution_count": 25,
   "metadata": {
    "code_folding": []
   },
   "outputs": [
    {
     "name": "stdout",
     "output_type": "stream",
     "text": [
      "The rpy2.ipython extension is already loaded. To reload it, use:\n",
      "  %reload_ext rpy2.ipython\n"
     ]
    }
   ],
   "source": [
    "# Load Python libraries\n",
    "import os\n",
    "import numpy as np\n",
    "import pandas as pd\n",
    "import statsmodels.api as sm\n",
    "import statsmodels.formula.api as smf\n",
    "import patsy\n",
    "import matplotlib.pyplot as plt\n",
    "from scipy.stats import chi2, chi2_contingency\n",
    "\n",
    "# Run R code adjacent to Python code\n",
    "%load_ext rpy2.ipython\n",
    "\n",
    "# Load ggplot R library\n",
    "%R library(ggplot2)\n",
    "%R library(scales)\n",
    "\n",
    "# Avoid kernal death\n",
    "os.environ['KMP_DUPLICATE_LIB_OK']='True'"
   ]
  },
  {
   "cell_type": "markdown",
   "metadata": {},
   "source": [
    "# Read in and organize data from TIMS (Collisions and Victims)"
   ]
  },
  {
   "cell_type": "markdown",
   "metadata": {},
   "source": [
    "#### Collisions data"
   ]
  },
  {
   "cell_type": "code",
   "execution_count": 2,
   "metadata": {
    "code_folding": []
   },
   "outputs": [],
   "source": [
    "c = pd.read_csv(\"Collisions.csv\")"
   ]
  },
  {
   "cell_type": "markdown",
   "metadata": {},
   "source": [
    "Response variable: Collision severity. We will code this as a binary variable, with 1 = fatality and 0 = not a fatality\n",
    "\n",
    "Keep a subset of predictors as full model: Based on previous knowledge, these are likely to be predictors of collision severity"
   ]
  },
  {
   "cell_type": "code",
   "execution_count": 3,
   "metadata": {},
   "outputs": [],
   "source": [
    "c = c[['COLLISION_TIME','INTERSECTION','COLLISION_SEVERITY',\n",
    "       'ROAD_SURFACE', 'ROAD_COND_1', 'PEDESTRIAN_ACCIDENT',\n",
    "       'BICYCLE_ACCIDENT', 'MOTORCYCLE_ACCIDENT', 'ALCOHOL_INVOLVED']]"
   ]
  },
  {
   "cell_type": "markdown",
   "metadata": {},
   "source": [
    "Make datetime variables"
   ]
  },
  {
   "cell_type": "code",
   "execution_count": 4,
   "metadata": {},
   "outputs": [
    {
     "data": {
      "text/html": [
       "<div>\n",
       "<style scoped>\n",
       "    .dataframe tbody tr th:only-of-type {\n",
       "        vertical-align: middle;\n",
       "    }\n",
       "\n",
       "    .dataframe tbody tr th {\n",
       "        vertical-align: top;\n",
       "    }\n",
       "\n",
       "    .dataframe thead th {\n",
       "        text-align: right;\n",
       "    }\n",
       "</style>\n",
       "<table border=\"1\" class=\"dataframe\">\n",
       "  <thead>\n",
       "    <tr style=\"text-align: right;\">\n",
       "      <th></th>\n",
       "      <th>COLLISION_TIME</th>\n",
       "      <th>INTERSECTION</th>\n",
       "      <th>COLLISION_SEVERITY</th>\n",
       "      <th>ROAD_SURFACE</th>\n",
       "      <th>ROAD_COND_1</th>\n",
       "      <th>PEDESTRIAN_ACCIDENT</th>\n",
       "      <th>BICYCLE_ACCIDENT</th>\n",
       "      <th>MOTORCYCLE_ACCIDENT</th>\n",
       "      <th>ALCOHOL_INVOLVED</th>\n",
       "    </tr>\n",
       "  </thead>\n",
       "  <tbody>\n",
       "    <tr>\n",
       "      <th>1838</th>\n",
       "      <td>19</td>\n",
       "      <td>Y</td>\n",
       "      <td>4</td>\n",
       "      <td>A</td>\n",
       "      <td>H</td>\n",
       "      <td>Y</td>\n",
       "      <td>NaN</td>\n",
       "      <td>NaN</td>\n",
       "      <td>NaN</td>\n",
       "    </tr>\n",
       "    <tr>\n",
       "      <th>1150</th>\n",
       "      <td>20</td>\n",
       "      <td>N</td>\n",
       "      <td>3</td>\n",
       "      <td>A</td>\n",
       "      <td>H</td>\n",
       "      <td>Y</td>\n",
       "      <td>NaN</td>\n",
       "      <td>NaN</td>\n",
       "      <td>NaN</td>\n",
       "    </tr>\n",
       "    <tr>\n",
       "      <th>1950</th>\n",
       "      <td>6</td>\n",
       "      <td>Y</td>\n",
       "      <td>3</td>\n",
       "      <td>A</td>\n",
       "      <td>H</td>\n",
       "      <td>NaN</td>\n",
       "      <td>NaN</td>\n",
       "      <td>NaN</td>\n",
       "      <td>Y</td>\n",
       "    </tr>\n",
       "    <tr>\n",
       "      <th>2028</th>\n",
       "      <td>18</td>\n",
       "      <td>N</td>\n",
       "      <td>4</td>\n",
       "      <td>A</td>\n",
       "      <td>H</td>\n",
       "      <td>NaN</td>\n",
       "      <td>NaN</td>\n",
       "      <td>NaN</td>\n",
       "      <td>NaN</td>\n",
       "    </tr>\n",
       "    <tr>\n",
       "      <th>2348</th>\n",
       "      <td>16</td>\n",
       "      <td>N</td>\n",
       "      <td>3</td>\n",
       "      <td>A</td>\n",
       "      <td>H</td>\n",
       "      <td>Y</td>\n",
       "      <td>NaN</td>\n",
       "      <td>Y</td>\n",
       "      <td>NaN</td>\n",
       "    </tr>\n",
       "  </tbody>\n",
       "</table>\n",
       "</div>"
      ],
      "text/plain": [
       "      COLLISION_TIME INTERSECTION  COLLISION_SEVERITY ROAD_SURFACE  \\\n",
       "1838              19            Y                   4            A   \n",
       "1150              20            N                   3            A   \n",
       "1950               6            Y                   3            A   \n",
       "2028              18            N                   4            A   \n",
       "2348              16            N                   3            A   \n",
       "\n",
       "     ROAD_COND_1 PEDESTRIAN_ACCIDENT BICYCLE_ACCIDENT MOTORCYCLE_ACCIDENT  \\\n",
       "1838           H                   Y              NaN                 NaN   \n",
       "1150           H                   Y              NaN                 NaN   \n",
       "1950           H                 NaN              NaN                 NaN   \n",
       "2028           H                 NaN              NaN                 NaN   \n",
       "2348           H                   Y              NaN                   Y   \n",
       "\n",
       "     ALCOHOL_INVOLVED  \n",
       "1838              NaN  \n",
       "1150              NaN  \n",
       "1950                Y  \n",
       "2028              NaN  \n",
       "2348              NaN  "
      ]
     },
     "execution_count": 4,
     "metadata": {},
     "output_type": "execute_result"
    }
   ],
   "source": [
    "# Convert COLLISION_TIME to hour of day (use tlater to match speeds to collisions)\n",
    "c['COLLISION_TIME'] = [int(i[:-2]) if len(i) > 2 else 0 for i in c['COLLISION_TIME'].astype(str).values]\n",
    "\n",
    "c.sample(5)"
   ]
  },
  {
   "cell_type": "code",
   "execution_count": 5,
   "metadata": {},
   "outputs": [],
   "source": [
    "# recode variables in Collision (as 1s and 0s, reduce categories down, make dummies)\n",
    "\n",
    "# NOTE: ROAD_SURFACE and ROAD_COND_1 had some observations unstated\n",
    "# If not stated, assumed no issues with road surface or con'd\n",
    "\n",
    "# Intersection: Make dummy, intersection/not\n",
    "c.loc[~(c.INTERSECTION == \"Y\"), \"INTERSECTION\"] = 0\n",
    "c.loc[c.INTERSECTION == \"Y\", \"INTERSECTION\"] = 1\n",
    "\n",
    "\n",
    "# Road_Surface: Convert to dummy, wet/not \n",
    "c.loc[~(c.ROAD_SURFACE.isin([\"B\", \"C\", \"D\"])), \"WET_ROAD_SURFACE\"] = 0\n",
    "c.loc[c.ROAD_SURFACE.isin([\"B\", \"C\", \"D\"]), \"WET_ROAD_SURFACE\"] = 1\n",
    "\n",
    "\n",
    "# Road_Cond_1: Convert to dummy, issue/not\n",
    "c.loc[~(c.ROAD_COND_1.isin([\"H\", \"\"])), \"ROAD_COND_ISSUE\"] = 1\n",
    "c.loc[c.ROAD_COND_1.isin([\"H\", \"\"]), \"ROAD_COND_ISSUE\"] = 0"
   ]
  },
  {
   "cell_type": "markdown",
   "metadata": {},
   "source": [
    "Recode some variables"
   ]
  },
  {
   "cell_type": "code",
   "execution_count": 6,
   "metadata": {},
   "outputs": [],
   "source": [
    "# for dummies: recode Y as 1, blank as 0\n",
    "def Yfor1(s):\n",
    "    s = s.replace(\"Y\", 1)\n",
    "    s = s.fillna(0)\n",
    "    return s"
   ]
  },
  {
   "cell_type": "code",
   "execution_count": 7,
   "metadata": {},
   "outputs": [],
   "source": [
    "c[\"PEDESTRIAN_ACCIDENT\"] = Yfor1(c.PEDESTRIAN_ACCIDENT)\n",
    "c[\"BICYCLE_ACCIDENT\"] = Yfor1(c.BICYCLE_ACCIDENT)\n",
    "c[\"MOTORCYCLE_ACCIDENT\"] = Yfor1(c.MOTORCYCLE_ACCIDENT)\n",
    "c[\"ALCOHOL_INVOLVED\"] = Yfor1(c.ALCOHOL_INVOLVED)"
   ]
  },
  {
   "cell_type": "markdown",
   "metadata": {},
   "source": [
    "Make response binary variable from Collision_Severity: 1 for fatality (COLLISION_SEVERITY = 1), 0 for not fatality (COLLISION_SEVERITY != 1)"
   ]
  },
  {
   "cell_type": "code",
   "execution_count": 8,
   "metadata": {},
   "outputs": [],
   "source": [
    "c.loc[c.COLLISION_SEVERITY == 1, \"Fatality\"] = 1\n",
    "c.loc[c.COLLISION_SEVERITY != 1, \"Fatality\"] = 0"
   ]
  },
  {
   "cell_type": "markdown",
   "metadata": {},
   "source": [
    "Drop vars we won't use"
   ]
  },
  {
   "cell_type": "code",
   "execution_count": 9,
   "metadata": {},
   "outputs": [],
   "source": [
    "c = c[['Fatality', 'COLLISION_TIME','INTERSECTION', 'PEDESTRIAN_ACCIDENT','BICYCLE_ACCIDENT',\n",
    "       'MOTORCYCLE_ACCIDENT','WET_ROAD_SURFACE','ROAD_COND_ISSUE']]"
   ]
  },
  {
   "cell_type": "code",
   "execution_count": 10,
   "metadata": {},
   "outputs": [
    {
     "data": {
      "text/html": [
       "<div>\n",
       "<style scoped>\n",
       "    .dataframe tbody tr th:only-of-type {\n",
       "        vertical-align: middle;\n",
       "    }\n",
       "\n",
       "    .dataframe tbody tr th {\n",
       "        vertical-align: top;\n",
       "    }\n",
       "\n",
       "    .dataframe thead th {\n",
       "        text-align: right;\n",
       "    }\n",
       "</style>\n",
       "<table border=\"1\" class=\"dataframe\">\n",
       "  <thead>\n",
       "    <tr style=\"text-align: right;\">\n",
       "      <th></th>\n",
       "      <th>Fatality</th>\n",
       "      <th>COLLISION_TIME</th>\n",
       "      <th>INTERSECTION</th>\n",
       "      <th>PEDESTRIAN_ACCIDENT</th>\n",
       "      <th>BICYCLE_ACCIDENT</th>\n",
       "      <th>MOTORCYCLE_ACCIDENT</th>\n",
       "      <th>WET_ROAD_SURFACE</th>\n",
       "      <th>ROAD_COND_ISSUE</th>\n",
       "    </tr>\n",
       "  </thead>\n",
       "  <tbody>\n",
       "    <tr>\n",
       "      <th>1623</th>\n",
       "      <td>0.0</td>\n",
       "      <td>9</td>\n",
       "      <td>1</td>\n",
       "      <td>0.0</td>\n",
       "      <td>0.0</td>\n",
       "      <td>1.0</td>\n",
       "      <td>0.0</td>\n",
       "      <td>1.0</td>\n",
       "    </tr>\n",
       "    <tr>\n",
       "      <th>1622</th>\n",
       "      <td>0.0</td>\n",
       "      <td>9</td>\n",
       "      <td>1</td>\n",
       "      <td>0.0</td>\n",
       "      <td>0.0</td>\n",
       "      <td>1.0</td>\n",
       "      <td>0.0</td>\n",
       "      <td>0.0</td>\n",
       "    </tr>\n",
       "    <tr>\n",
       "      <th>1395</th>\n",
       "      <td>0.0</td>\n",
       "      <td>13</td>\n",
       "      <td>1</td>\n",
       "      <td>1.0</td>\n",
       "      <td>0.0</td>\n",
       "      <td>0.0</td>\n",
       "      <td>0.0</td>\n",
       "      <td>0.0</td>\n",
       "    </tr>\n",
       "    <tr>\n",
       "      <th>635</th>\n",
       "      <td>0.0</td>\n",
       "      <td>16</td>\n",
       "      <td>1</td>\n",
       "      <td>0.0</td>\n",
       "      <td>0.0</td>\n",
       "      <td>0.0</td>\n",
       "      <td>0.0</td>\n",
       "      <td>0.0</td>\n",
       "    </tr>\n",
       "    <tr>\n",
       "      <th>1043</th>\n",
       "      <td>0.0</td>\n",
       "      <td>15</td>\n",
       "      <td>1</td>\n",
       "      <td>0.0</td>\n",
       "      <td>0.0</td>\n",
       "      <td>0.0</td>\n",
       "      <td>0.0</td>\n",
       "      <td>0.0</td>\n",
       "    </tr>\n",
       "  </tbody>\n",
       "</table>\n",
       "</div>"
      ],
      "text/plain": [
       "      Fatality  COLLISION_TIME  INTERSECTION  PEDESTRIAN_ACCIDENT  \\\n",
       "1623       0.0               9             1                  0.0   \n",
       "1622       0.0               9             1                  0.0   \n",
       "1395       0.0              13             1                  1.0   \n",
       "635        0.0              16             1                  0.0   \n",
       "1043       0.0              15             1                  0.0   \n",
       "\n",
       "      BICYCLE_ACCIDENT  MOTORCYCLE_ACCIDENT  WET_ROAD_SURFACE  ROAD_COND_ISSUE  \n",
       "1623               0.0                  1.0               0.0              1.0  \n",
       "1622               0.0                  1.0               0.0              0.0  \n",
       "1395               0.0                  0.0               0.0              0.0  \n",
       "635                0.0                  0.0               0.0              0.0  \n",
       "1043               0.0                  0.0               0.0              0.0  "
      ]
     },
     "execution_count": 10,
     "metadata": {},
     "output_type": "execute_result"
    }
   ],
   "source": [
    "c.sample(5)"
   ]
  },
  {
   "cell_type": "code",
   "execution_count": null,
   "metadata": {},
   "outputs": [],
   "source": [
    "m =  pd.get_dummies(c, columns = ['PCF_VIOL_CATEGORY'])\n"
   ]
  },
  {
   "cell_type": "markdown",
   "metadata": {},
   "source": [
    "## Model Selection "
   ]
  },
  {
   "cell_type": "code",
   "execution_count": 17,
   "metadata": {},
   "outputs": [],
   "source": [
    "def forward_selected(data, response, aic_or_bic):\n",
    "    \"\"\"Logistic model designed by forward selection.\n",
    "\n",
    "    Parameters:\n",
    "    -----------\n",
    "    data : pandas DataFrame with all possible predictors and response\n",
    "\n",
    "    response: string, name of response column in data\n",
    "\n",
    "    Returns:\n",
    "    --------\n",
    "    model: an \"optimal\" fitted statsmodels linear model\n",
    "           with an intercept\n",
    "           selected by forward selection\n",
    "           evaluated by AIC or BIC\n",
    "    \"\"\"\n",
    "    remaining = set(data.columns) \n",
    "    remaining.remove(response)\n",
    "    selected = []\n",
    "    current_score, best_new_score = 9999, 9999  # set starting point scores really high: want low AIC\n",
    "    \n",
    "    while remaining and current_score == best_new_score:\n",
    "        scores_with_candidates = []\n",
    "        # regress response ~ prior selected predictors + each remaining predictor individually\n",
    "        for candidate in remaining:\n",
    "            formula = \"{} ~ {} + 1\".format(response,\n",
    "                                           ' + '.join(selected + [candidate]))\n",
    "            # do aic or bic score, depending on if you specified aic or bic in args\n",
    "            if aic_or_bic == \"AIC\":\n",
    "                score = smf.glm(formula=formula, data=data, family=sm.families.Binomial()).fit().aic \n",
    "            elif aic_or_bic == \"BIC\":\n",
    "                score = smf.glm(formula=formula, data=data, family=sm.families.Binomial()).fit().bic\n",
    "            else:\n",
    "                raise ValueError(\"Did not specify aic_or_bic = 'AIC' or 'BIC' in args\")\n",
    "            scores_with_candidates.append((score, candidate))\n",
    "        scores_with_candidates.sort(reverse=True)\n",
    "        best_new_score, best_candidate = scores_with_candidates.pop()\n",
    "        if current_score > best_new_score:\n",
    "            remaining.remove(best_candidate)\n",
    "            selected.append(best_candidate)\n",
    "            current_score = best_new_score\n",
    "    \n",
    "    # final selected model from stepwise selection\n",
    "    formula = \"{} ~ {} + 1\".format(response,' + '.join(selected))\n",
    "    model = smf.glm(formula=formula, data=data, family=sm.families.Binomial()).fit()\n",
    "    return model"
   ]
  },
  {
   "cell_type": "markdown",
   "metadata": {},
   "source": [
    "Model chosen by best AIC:"
   ]
  },
  {
   "cell_type": "code",
   "execution_count": 18,
   "metadata": {},
   "outputs": [],
   "source": [
    "model_aic = forward_selected(c,'Fatality', \"AIC\")"
   ]
  },
  {
   "cell_type": "code",
   "execution_count": 19,
   "metadata": {},
   "outputs": [
    {
     "data": {
      "text/html": [
       "<table class=\"simpletable\">\n",
       "<caption>Generalized Linear Model Regression Results</caption>\n",
       "<tr>\n",
       "  <th>Dep. Variable:</th>      <td>Fatality</td>     <th>  No. Observations:  </th>  <td>  3870</td>  \n",
       "</tr>\n",
       "<tr>\n",
       "  <th>Model:</th>                 <td>GLM</td>       <th>  Df Residuals:      </th>  <td>  3866</td>  \n",
       "</tr>\n",
       "<tr>\n",
       "  <th>Model Family:</th>       <td>Binomial</td>     <th>  Df Model:          </th>  <td>     3</td>  \n",
       "</tr>\n",
       "<tr>\n",
       "  <th>Link Function:</th>        <td>logit</td>      <th>  Scale:             </th> <td>  1.0000</td> \n",
       "</tr>\n",
       "<tr>\n",
       "  <th>Method:</th>               <td>IRLS</td>       <th>  Log-Likelihood:    </th> <td> -132.35</td> \n",
       "</tr>\n",
       "<tr>\n",
       "  <th>Date:</th>           <td>Sat, 12 Oct 2019</td> <th>  Deviance:          </th> <td>  264.71</td> \n",
       "</tr>\n",
       "<tr>\n",
       "  <th>Time:</th>               <td>10:44:58</td>     <th>  Pearson chi2:      </th> <td>3.12e+03</td> \n",
       "</tr>\n",
       "<tr>\n",
       "  <th>No. Iterations:</th>         <td>9</td>        <th>  Covariance Type:   </th> <td>nonrobust</td>\n",
       "</tr>\n",
       "</table>\n",
       "<table class=\"simpletable\">\n",
       "<tr>\n",
       "           <td></td>              <th>coef</th>     <th>std err</th>      <th>z</th>      <th>P>|z|</th>  <th>[0.025</th>    <th>0.975]</th>  \n",
       "</tr>\n",
       "<tr>\n",
       "  <th>Intercept</th>           <td>   -5.2741</td> <td>    0.323</td> <td>  -16.312</td> <td> 0.000</td> <td>   -5.908</td> <td>   -4.640</td>\n",
       "</tr>\n",
       "<tr>\n",
       "  <th>PEDESTRIAN_ACCIDENT</th> <td>    1.6459</td> <td>    0.416</td> <td>    3.956</td> <td> 0.000</td> <td>    0.830</td> <td>    2.461</td>\n",
       "</tr>\n",
       "<tr>\n",
       "  <th>INTERSECTION</th>        <td>   -1.5631</td> <td>    0.509</td> <td>   -3.072</td> <td> 0.002</td> <td>   -2.560</td> <td>   -0.566</td>\n",
       "</tr>\n",
       "<tr>\n",
       "  <th>ROAD_COND_ISSUE</th>     <td>    1.2175</td> <td>    0.560</td> <td>    2.176</td> <td> 0.030</td> <td>    0.121</td> <td>    2.314</td>\n",
       "</tr>\n",
       "</table>"
      ],
      "text/plain": [
       "<class 'statsmodels.iolib.summary.Summary'>\n",
       "\"\"\"\n",
       "                 Generalized Linear Model Regression Results                  \n",
       "==============================================================================\n",
       "Dep. Variable:               Fatality   No. Observations:                 3870\n",
       "Model:                            GLM   Df Residuals:                     3866\n",
       "Model Family:                Binomial   Df Model:                            3\n",
       "Link Function:                  logit   Scale:                          1.0000\n",
       "Method:                          IRLS   Log-Likelihood:                -132.35\n",
       "Date:                Sat, 12 Oct 2019   Deviance:                       264.71\n",
       "Time:                        10:44:58   Pearson chi2:                 3.12e+03\n",
       "No. Iterations:                     9   Covariance Type:             nonrobust\n",
       "=======================================================================================\n",
       "                          coef    std err          z      P>|z|      [0.025      0.975]\n",
       "---------------------------------------------------------------------------------------\n",
       "Intercept              -5.2741      0.323    -16.312      0.000      -5.908      -4.640\n",
       "PEDESTRIAN_ACCIDENT     1.6459      0.416      3.956      0.000       0.830       2.461\n",
       "INTERSECTION           -1.5631      0.509     -3.072      0.002      -2.560      -0.566\n",
       "ROAD_COND_ISSUE         1.2175      0.560      2.176      0.030       0.121       2.314\n",
       "=======================================================================================\n",
       "\"\"\""
      ]
     },
     "execution_count": 19,
     "metadata": {},
     "output_type": "execute_result"
    }
   ],
   "source": [
    "model_aic.summary()"
   ]
  },
  {
   "cell_type": "markdown",
   "metadata": {},
   "source": [
    "Model selected by best BIC:"
   ]
  },
  {
   "cell_type": "code",
   "execution_count": 20,
   "metadata": {},
   "outputs": [],
   "source": [
    "model_bic = forward_selected(c,'Fatality', \"BIC\")"
   ]
  },
  {
   "cell_type": "code",
   "execution_count": null,
   "metadata": {},
   "outputs": [],
   "source": [
    "c.INTERSECTION.value_counts()"
   ]
  },
  {
   "cell_type": "markdown",
   "metadata": {},
   "source": [
    "Unfortunatly, using AIC and BIC does not produce any predictors."
   ]
  },
  {
   "cell_type": "code",
   "execution_count": 21,
   "metadata": {},
   "outputs": [
    {
     "data": {
      "text/html": [
       "<table class=\"simpletable\">\n",
       "<caption>Generalized Linear Model Regression Results</caption>\n",
       "<tr>\n",
       "  <th>Dep. Variable:</th>      <td>Fatality</td>     <th>  No. Observations:  </th>  <td>  3870</td>  \n",
       "</tr>\n",
       "<tr>\n",
       "  <th>Model:</th>                 <td>GLM</td>       <th>  Df Residuals:      </th>  <td>  3867</td>  \n",
       "</tr>\n",
       "<tr>\n",
       "  <th>Model Family:</th>       <td>Binomial</td>     <th>  Df Model:          </th>  <td>     2</td>  \n",
       "</tr>\n",
       "<tr>\n",
       "  <th>Link Function:</th>        <td>logit</td>      <th>  Scale:             </th> <td>  1.0000</td> \n",
       "</tr>\n",
       "<tr>\n",
       "  <th>Method:</th>               <td>IRLS</td>       <th>  Log-Likelihood:    </th> <td> -134.18</td> \n",
       "</tr>\n",
       "<tr>\n",
       "  <th>Date:</th>           <td>Sat, 12 Oct 2019</td> <th>  Deviance:          </th> <td>  268.37</td> \n",
       "</tr>\n",
       "<tr>\n",
       "  <th>Time:</th>               <td>10:45:12</td>     <th>  Pearson chi2:      </th> <td>3.50e+03</td> \n",
       "</tr>\n",
       "<tr>\n",
       "  <th>No. Iterations:</th>         <td>9</td>        <th>  Covariance Type:   </th> <td>nonrobust</td>\n",
       "</tr>\n",
       "</table>\n",
       "<table class=\"simpletable\">\n",
       "<tr>\n",
       "           <td></td>              <th>coef</th>     <th>std err</th>      <th>z</th>      <th>P>|z|</th>  <th>[0.025</th>    <th>0.975]</th>  \n",
       "</tr>\n",
       "<tr>\n",
       "  <th>Intercept</th>           <td>   -5.1657</td> <td>    0.312</td> <td>  -16.532</td> <td> 0.000</td> <td>   -5.778</td> <td>   -4.553</td>\n",
       "</tr>\n",
       "<tr>\n",
       "  <th>PEDESTRIAN_ACCIDENT</th> <td>    1.6662</td> <td>    0.416</td> <td>    4.008</td> <td> 0.000</td> <td>    0.851</td> <td>    2.481</td>\n",
       "</tr>\n",
       "<tr>\n",
       "  <th>INTERSECTION</th>        <td>   -1.5367</td> <td>    0.508</td> <td>   -3.022</td> <td> 0.003</td> <td>   -2.533</td> <td>   -0.540</td>\n",
       "</tr>\n",
       "</table>"
      ],
      "text/plain": [
       "<class 'statsmodels.iolib.summary.Summary'>\n",
       "\"\"\"\n",
       "                 Generalized Linear Model Regression Results                  \n",
       "==============================================================================\n",
       "Dep. Variable:               Fatality   No. Observations:                 3870\n",
       "Model:                            GLM   Df Residuals:                     3867\n",
       "Model Family:                Binomial   Df Model:                            2\n",
       "Link Function:                  logit   Scale:                          1.0000\n",
       "Method:                          IRLS   Log-Likelihood:                -134.18\n",
       "Date:                Sat, 12 Oct 2019   Deviance:                       268.37\n",
       "Time:                        10:45:12   Pearson chi2:                 3.50e+03\n",
       "No. Iterations:                     9   Covariance Type:             nonrobust\n",
       "=======================================================================================\n",
       "                          coef    std err          z      P>|z|      [0.025      0.975]\n",
       "---------------------------------------------------------------------------------------\n",
       "Intercept              -5.1657      0.312    -16.532      0.000      -5.778      -4.553\n",
       "PEDESTRIAN_ACCIDENT     1.6662      0.416      4.008      0.000       0.851       2.481\n",
       "INTERSECTION           -1.5367      0.508     -3.022      0.003      -2.533      -0.540\n",
       "=======================================================================================\n",
       "\"\"\""
      ]
     },
     "execution_count": 21,
     "metadata": {},
     "output_type": "execute_result"
    }
   ],
   "source": [
    "model_bic.summary()"
   ]
  },
  {
   "cell_type": "markdown",
   "metadata": {},
   "source": [
    "AIC chose model Fatality ~ PEDESTRIAN_ACCIDENT + INTERSECTION + ROAD_COND_ISSUE\n",
    "\n",
    "BIC chose model Fatality ~ PEDESTRIAN_ACCIDENT + INTERSECTION \n",
    "\n",
    "(makes sense: AIC and BIC work similarly but BIC penalizes model complexity/number of predictors more)\n",
    "\n",
    "In this model selection, AIC selected a model with a subset of predictors of BIC's model. Let BIC-selected model = full model, and AIC-selected model = reduced model going forward."
   ]
  },
  {
   "cell_type": "code",
   "execution_count": null,
   "metadata": {},
   "outputs": [],
   "source": [
    "c.head()"
   ]
  },
  {
   "cell_type": "markdown",
   "metadata": {},
   "source": [
    "AIC and BIC picked similar best models; given BIC "
   ]
  },
  {
   "cell_type": "markdown",
   "metadata": {},
   "source": [
    "**Wald test:** \n",
    "<br>Check p-values in regression summary. For both full and reduced models, all predictors are significant by Wald test (p-values < alpha = 0.05)"
   ]
  },
  {
   "cell_type": "markdown",
   "metadata": {},
   "source": [
    "**Deviance test:** \n",
    "<br>Let's check whether we should do reduced model or full model.\n",
    "\n",
    "H0: Reduced model \n",
    "<br>Ha: Full model\n",
    "<br>$\\Delta G^{2}$ = $G^{2}$(reduced model) − $G^{2}$(full model)\n",
    "\n",
    "Compare against $\\chi^{2}$($\\alpha$ = 0.05, df = $p_{full}$ - $p_{reduced}$ = 3-2 = 1)"
   ]
  },
  {
   "cell_type": "code",
   "execution_count": 23,
   "metadata": {},
   "outputs": [
    {
     "data": {
      "text/plain": [
       "3.6576426516627976"
      ]
     },
     "execution_count": 23,
     "metadata": {},
     "output_type": "execute_result"
    }
   ],
   "source": [
    "delta_G2 = model_bic.deviance - model_aic.deviance\n",
    "delta_G2"
   ]
  },
  {
   "cell_type": "markdown",
   "metadata": {},
   "source": []
  },
  {
   "cell_type": "code",
   "execution_count": 26,
   "metadata": {},
   "outputs": [
    {
     "data": {
      "text/plain": [
       "3.8414588206941285"
      ]
     },
     "execution_count": 26,
     "metadata": {},
     "output_type": "execute_result"
    }
   ],
   "source": [
    "chi2.isf(0.05, 1)"
   ]
  },
  {
   "cell_type": "markdown",
   "metadata": {},
   "source": [
    "$\\Delta G^{2}$ < $\\chi^{2}$($\\alpha$ = 0.05, df = 1): Fail to reject H0. \n",
    "<br>Thus, keep reduced model: Fatality ~ PEDESTRIAN_ACCIDENT + INTERSECTION"
   ]
  },
  {
   "cell_type": "markdown",
   "metadata": {},
   "source": [
    "### Model selected: Fatality ~ PEDESTRIAN_ACCIDENT + INTERSECTION"
   ]
  },
  {
   "cell_type": "markdown",
   "metadata": {},
   "source": [
    "# Model Evaluation"
   ]
  },
  {
   "cell_type": "markdown",
   "metadata": {},
   "source": [
    "Pearson residuals plot"
   ]
  },
  {
   "cell_type": "code",
   "execution_count": null,
   "metadata": {},
   "outputs": [],
   "source": []
  },
  {
   "cell_type": "code",
   "execution_count": null,
   "metadata": {},
   "outputs": [],
   "source": []
  },
  {
   "cell_type": "code",
   "execution_count": null,
   "metadata": {},
   "outputs": [],
   "source": []
  },
  {
   "cell_type": "code",
   "execution_count": null,
   "metadata": {},
   "outputs": [],
   "source": []
  }
 ],
 "metadata": {
  "kernelspec": {
   "display_name": "Python 3",
   "language": "python",
   "name": "python3"
  },
  "language_info": {
   "codemirror_mode": {
    "name": "ipython",
    "version": 3
   },
   "file_extension": ".py",
   "mimetype": "text/x-python",
   "name": "python",
   "nbconvert_exporter": "python",
   "pygments_lexer": "ipython3",
   "version": "3.7.3"
  }
 },
 "nbformat": 4,
 "nbformat_minor": 2
}
