{
 "cells": [
  {
   "cell_type": "markdown",
   "metadata": {},
   "source": [
    "## Linear Regression Final Project: Logistic Regression with Traffic Collision Data\n",
    "### Zachary Barnes and Bing Wang"
   ]
  },
  {
   "cell_type": "markdown",
   "metadata": {},
   "source": [
    "##### Housekeeping"
   ]
  },
  {
   "cell_type": "code",
   "execution_count": 1,
   "metadata": {
    "code_folding": []
   },
   "outputs": [],
   "source": [
    "# Load Python libraries\n",
    "import os\n",
    "import numpy as np\n",
    "import pandas as pd\n",
    "import statsmodels.api as sm\n",
    "import statsmodels.formula.api as smf\n",
    "import patsy\n",
    "import matplotlib.pyplot as plt\n",
    "from scipy.stats import chi2, chi2_contingency\n",
    "from statsmodels.stats.outliers_influence import variance_inflation_factor\n",
    "from sklearn.linear_model import LogisticRegression\n",
    "from sklearn import metrics\n",
    "from scipy.special import expit\n",
    "from collections import Counter"
   ]
  },
  {
   "cell_type": "markdown",
   "metadata": {},
   "source": [
    "## Read in and organize Collisions data from TIMS"
   ]
  },
  {
   "cell_type": "code",
   "execution_count": 2,
   "metadata": {
    "code_folding": []
   },
   "outputs": [],
   "source": [
    "c = pd.read_csv(\"Collisions.csv\")"
   ]
  },
  {
   "cell_type": "markdown",
   "metadata": {},
   "source": [
    "Response variable: Collision severity. We will code this as a binary variable, with 1 = fatality and 0 = not a fatality\n",
    "\n",
    "Keep a subset of predictors as full model: Based on previous knowledge, these are likely to be predictors of collision severity"
   ]
  },
  {
   "cell_type": "code",
   "execution_count": 3,
   "metadata": {},
   "outputs": [],
   "source": [
    "c = c[['CASE_ID', 'COLLISION_TIME','INTERSECTION','COLLISION_SEVERITY',\n",
    "       'ROAD_SURFACE', 'ROAD_COND_1', 'PEDESTRIAN_ACCIDENT',\n",
    "       'BICYCLE_ACCIDENT', 'MOTORCYCLE_ACCIDENT', 'ALCOHOL_INVOLVED']]"
   ]
  },
  {
   "cell_type": "markdown",
   "metadata": {},
   "source": [
    "Make datetime variables"
   ]
  },
  {
   "cell_type": "code",
   "execution_count": 4,
   "metadata": {},
   "outputs": [
    {
     "data": {
      "text/html": [
       "<div>\n",
       "<style scoped>\n",
       "    .dataframe tbody tr th:only-of-type {\n",
       "        vertical-align: middle;\n",
       "    }\n",
       "\n",
       "    .dataframe tbody tr th {\n",
       "        vertical-align: top;\n",
       "    }\n",
       "\n",
       "    .dataframe thead th {\n",
       "        text-align: right;\n",
       "    }\n",
       "</style>\n",
       "<table border=\"1\" class=\"dataframe\">\n",
       "  <thead>\n",
       "    <tr style=\"text-align: right;\">\n",
       "      <th></th>\n",
       "      <th>CASE_ID</th>\n",
       "      <th>COLLISION_TIME</th>\n",
       "      <th>INTERSECTION</th>\n",
       "      <th>COLLISION_SEVERITY</th>\n",
       "      <th>ROAD_SURFACE</th>\n",
       "      <th>ROAD_COND_1</th>\n",
       "      <th>PEDESTRIAN_ACCIDENT</th>\n",
       "      <th>BICYCLE_ACCIDENT</th>\n",
       "      <th>MOTORCYCLE_ACCIDENT</th>\n",
       "      <th>ALCOHOL_INVOLVED</th>\n",
       "    </tr>\n",
       "  </thead>\n",
       "  <tbody>\n",
       "    <tr>\n",
       "      <td>1631</td>\n",
       "      <td>8686009</td>\n",
       "      <td>19</td>\n",
       "      <td>N</td>\n",
       "      <td>4</td>\n",
       "      <td>A</td>\n",
       "      <td>H</td>\n",
       "      <td>NaN</td>\n",
       "      <td>Y</td>\n",
       "      <td>NaN</td>\n",
       "      <td>NaN</td>\n",
       "    </tr>\n",
       "    <tr>\n",
       "      <td>3185</td>\n",
       "      <td>8557524</td>\n",
       "      <td>22</td>\n",
       "      <td>Y</td>\n",
       "      <td>4</td>\n",
       "      <td>A</td>\n",
       "      <td>H</td>\n",
       "      <td>NaN</td>\n",
       "      <td>NaN</td>\n",
       "      <td>NaN</td>\n",
       "      <td>NaN</td>\n",
       "    </tr>\n",
       "    <tr>\n",
       "      <td>895</td>\n",
       "      <td>8754823</td>\n",
       "      <td>13</td>\n",
       "      <td>N</td>\n",
       "      <td>4</td>\n",
       "      <td>A</td>\n",
       "      <td>H</td>\n",
       "      <td>NaN</td>\n",
       "      <td>Y</td>\n",
       "      <td>NaN</td>\n",
       "      <td>NaN</td>\n",
       "    </tr>\n",
       "    <tr>\n",
       "      <td>979</td>\n",
       "      <td>8754734</td>\n",
       "      <td>1</td>\n",
       "      <td>Y</td>\n",
       "      <td>2</td>\n",
       "      <td>A</td>\n",
       "      <td>H</td>\n",
       "      <td>NaN</td>\n",
       "      <td>Y</td>\n",
       "      <td>NaN</td>\n",
       "      <td>NaN</td>\n",
       "    </tr>\n",
       "    <tr>\n",
       "      <td>670</td>\n",
       "      <td>8758231</td>\n",
       "      <td>17</td>\n",
       "      <td>N</td>\n",
       "      <td>4</td>\n",
       "      <td>B</td>\n",
       "      <td>H</td>\n",
       "      <td>NaN</td>\n",
       "      <td>NaN</td>\n",
       "      <td>NaN</td>\n",
       "      <td>NaN</td>\n",
       "    </tr>\n",
       "  </tbody>\n",
       "</table>\n",
       "</div>"
      ],
      "text/plain": [
       "      CASE_ID  COLLISION_TIME INTERSECTION  COLLISION_SEVERITY ROAD_SURFACE  \\\n",
       "1631  8686009              19            N                   4            A   \n",
       "3185  8557524              22            Y                   4            A   \n",
       "895   8754823              13            N                   4            A   \n",
       "979   8754734               1            Y                   2            A   \n",
       "670   8758231              17            N                   4            B   \n",
       "\n",
       "     ROAD_COND_1 PEDESTRIAN_ACCIDENT BICYCLE_ACCIDENT MOTORCYCLE_ACCIDENT  \\\n",
       "1631           H                 NaN                Y                 NaN   \n",
       "3185           H                 NaN              NaN                 NaN   \n",
       "895            H                 NaN                Y                 NaN   \n",
       "979            H                 NaN                Y                 NaN   \n",
       "670            H                 NaN              NaN                 NaN   \n",
       "\n",
       "     ALCOHOL_INVOLVED  \n",
       "1631              NaN  \n",
       "3185              NaN  \n",
       "895               NaN  \n",
       "979               NaN  \n",
       "670               NaN  "
      ]
     },
     "execution_count": 4,
     "metadata": {},
     "output_type": "execute_result"
    }
   ],
   "source": [
    "# Convert COLLISION_TIME to hour of day (use tlater to match speeds to collisions)\n",
    "c['COLLISION_TIME'] = [int(i[:-2]) if len(i) > 2 else 0 for i in c['COLLISION_TIME'].astype(str).values]\n",
    "\n",
    "c.sample(5)"
   ]
  },
  {
   "cell_type": "markdown",
   "metadata": {},
   "source": [
    "Recode variables in Collision (as 1s and 0s, reduce categories down, make dummies, etc.)"
   ]
  },
  {
   "cell_type": "code",
   "execution_count": 5,
   "metadata": {},
   "outputs": [],
   "source": [
    "# NOTE: ROAD_SURFACE and ROAD_COND_1 had some observations unstated\n",
    "# If not stated, assumed no issues with road surface or con'd\n",
    "\n",
    "# Intersection: Make dummy, intersection/not\n",
    "c.loc[~(c.INTERSECTION == \"Y\"), \"INTERSECTION\"] = 0\n",
    "c.loc[c.INTERSECTION == \"Y\", \"INTERSECTION\"] = 1\n",
    "\n",
    "\n",
    "# Road_Surface: Convert to dummy, wet/not \n",
    "c.loc[~(c.ROAD_SURFACE.isin([\"B\", \"C\", \"D\"])), \"WET_ROAD_SURFACE\"] = 0\n",
    "c.loc[c.ROAD_SURFACE.isin([\"B\", \"C\", \"D\"]), \"WET_ROAD_SURFACE\"] = 1\n",
    "\n",
    "\n",
    "# Road_Cond_1: Convert to dummy, issue/not\n",
    "c.loc[~(c.ROAD_COND_1.isin([\"H\", \"\"])), \"ROAD_COND_ISSUE\"] = 1\n",
    "c.loc[c.ROAD_COND_1.isin([\"H\", \"\"]), \"ROAD_COND_ISSUE\"] = 0"
   ]
  },
  {
   "cell_type": "markdown",
   "metadata": {},
   "source": [
    "Recode some variables"
   ]
  },
  {
   "cell_type": "code",
   "execution_count": 6,
   "metadata": {},
   "outputs": [],
   "source": [
    "# for dummies: recode Y as 1, blank as 0\n",
    "def Yfor1(s):\n",
    "    s = s.replace(\"Y\", 1)\n",
    "    s = s.fillna(0)\n",
    "    return s"
   ]
  },
  {
   "cell_type": "code",
   "execution_count": 7,
   "metadata": {},
   "outputs": [],
   "source": [
    "c[\"PEDESTRIAN_ACCIDENT\"] = Yfor1(c.PEDESTRIAN_ACCIDENT)\n",
    "c[\"BICYCLE_ACCIDENT\"] = Yfor1(c.BICYCLE_ACCIDENT)\n",
    "c[\"MOTORCYCLE_ACCIDENT\"] = Yfor1(c.MOTORCYCLE_ACCIDENT)\n",
    "c[\"ALCOHOL_INVOLVED\"] = Yfor1(c.ALCOHOL_INVOLVED)"
   ]
  },
  {
   "cell_type": "markdown",
   "metadata": {},
   "source": [
    "Make response binary variable from Collision_Severity: 1 for fatality (COLLISION_SEVERITY = 1), 0 for not fatality (COLLISION_SEVERITY != 1)"
   ]
  },
  {
   "cell_type": "code",
   "execution_count": 8,
   "metadata": {},
   "outputs": [],
   "source": [
    "c.loc[c.COLLISION_SEVERITY == 1, \"Fatality\"] = 1\n",
    "c.loc[c.COLLISION_SEVERITY != 1, \"Fatality\"] = 0"
   ]
  },
  {
   "cell_type": "markdown",
   "metadata": {},
   "source": [
    "Drop variables we won't use"
   ]
  },
  {
   "cell_type": "code",
   "execution_count": 9,
   "metadata": {},
   "outputs": [],
   "source": [
    "c = c[['CASE_ID','Fatality', 'COLLISION_TIME','INTERSECTION', 'PEDESTRIAN_ACCIDENT','BICYCLE_ACCIDENT',\n",
    "       'MOTORCYCLE_ACCIDENT','WET_ROAD_SURFACE','ROAD_COND_ISSUE']]"
   ]
  },
  {
   "cell_type": "code",
   "execution_count": 10,
   "metadata": {},
   "outputs": [
    {
     "data": {
      "text/html": [
       "<div>\n",
       "<style scoped>\n",
       "    .dataframe tbody tr th:only-of-type {\n",
       "        vertical-align: middle;\n",
       "    }\n",
       "\n",
       "    .dataframe tbody tr th {\n",
       "        vertical-align: top;\n",
       "    }\n",
       "\n",
       "    .dataframe thead th {\n",
       "        text-align: right;\n",
       "    }\n",
       "</style>\n",
       "<table border=\"1\" class=\"dataframe\">\n",
       "  <thead>\n",
       "    <tr style=\"text-align: right;\">\n",
       "      <th></th>\n",
       "      <th>CASE_ID</th>\n",
       "      <th>Fatality</th>\n",
       "      <th>COLLISION_TIME</th>\n",
       "      <th>INTERSECTION</th>\n",
       "      <th>PEDESTRIAN_ACCIDENT</th>\n",
       "      <th>BICYCLE_ACCIDENT</th>\n",
       "      <th>MOTORCYCLE_ACCIDENT</th>\n",
       "      <th>WET_ROAD_SURFACE</th>\n",
       "      <th>ROAD_COND_ISSUE</th>\n",
       "    </tr>\n",
       "  </thead>\n",
       "  <tbody>\n",
       "    <tr>\n",
       "      <td>2436</td>\n",
       "      <td>8620794</td>\n",
       "      <td>0.0</td>\n",
       "      <td>21</td>\n",
       "      <td>1</td>\n",
       "      <td>0.0</td>\n",
       "      <td>0.0</td>\n",
       "      <td>1.0</td>\n",
       "      <td>0.0</td>\n",
       "      <td>0.0</td>\n",
       "    </tr>\n",
       "    <tr>\n",
       "      <td>1868</td>\n",
       "      <td>8667456</td>\n",
       "      <td>0.0</td>\n",
       "      <td>23</td>\n",
       "      <td>1</td>\n",
       "      <td>1.0</td>\n",
       "      <td>0.0</td>\n",
       "      <td>0.0</td>\n",
       "      <td>0.0</td>\n",
       "      <td>0.0</td>\n",
       "    </tr>\n",
       "    <tr>\n",
       "      <td>258</td>\n",
       "      <td>8796627</td>\n",
       "      <td>0.0</td>\n",
       "      <td>16</td>\n",
       "      <td>1</td>\n",
       "      <td>0.0</td>\n",
       "      <td>0.0</td>\n",
       "      <td>0.0</td>\n",
       "      <td>1.0</td>\n",
       "      <td>0.0</td>\n",
       "    </tr>\n",
       "    <tr>\n",
       "      <td>3490</td>\n",
       "      <td>90753534</td>\n",
       "      <td>0.0</td>\n",
       "      <td>22</td>\n",
       "      <td>0</td>\n",
       "      <td>0.0</td>\n",
       "      <td>0.0</td>\n",
       "      <td>0.0</td>\n",
       "      <td>0.0</td>\n",
       "      <td>0.0</td>\n",
       "    </tr>\n",
       "    <tr>\n",
       "      <td>2329</td>\n",
       "      <td>8636840</td>\n",
       "      <td>0.0</td>\n",
       "      <td>16</td>\n",
       "      <td>1</td>\n",
       "      <td>0.0</td>\n",
       "      <td>0.0</td>\n",
       "      <td>0.0</td>\n",
       "      <td>0.0</td>\n",
       "      <td>0.0</td>\n",
       "    </tr>\n",
       "  </tbody>\n",
       "</table>\n",
       "</div>"
      ],
      "text/plain": [
       "       CASE_ID  Fatality  COLLISION_TIME  INTERSECTION  PEDESTRIAN_ACCIDENT  \\\n",
       "2436   8620794       0.0              21             1                  0.0   \n",
       "1868   8667456       0.0              23             1                  1.0   \n",
       "258    8796627       0.0              16             1                  0.0   \n",
       "3490  90753534       0.0              22             0                  0.0   \n",
       "2329   8636840       0.0              16             1                  0.0   \n",
       "\n",
       "      BICYCLE_ACCIDENT  MOTORCYCLE_ACCIDENT  WET_ROAD_SURFACE  ROAD_COND_ISSUE  \n",
       "2436               0.0                  1.0               0.0              0.0  \n",
       "1868               0.0                  0.0               0.0              0.0  \n",
       "258                0.0                  0.0               1.0              0.0  \n",
       "3490               0.0                  0.0               0.0              0.0  \n",
       "2329               0.0                  0.0               0.0              0.0  "
      ]
     },
     "execution_count": 10,
     "metadata": {},
     "output_type": "execute_result"
    }
   ],
   "source": [
    "c.sample(5)"
   ]
  },
  {
   "cell_type": "markdown",
   "metadata": {},
   "source": [
    "## Exploratory Data Analysis"
   ]
  },
  {
   "cell_type": "markdown",
   "metadata": {},
   "source": [
    "Value counts of response variable"
   ]
  },
  {
   "cell_type": "code",
   "execution_count": 11,
   "metadata": {},
   "outputs": [
    {
     "name": "stdout",
     "output_type": "stream",
     "text": [
      "0.0    3846\n",
      "1.0      24\n",
      "Name: Fatality, dtype: int64\n"
     ]
    },
    {
     "data": {
      "text/plain": [
       "Text(0, 0.5, 'Count')"
      ]
     },
     "execution_count": 11,
     "metadata": {},
     "output_type": "execute_result"
    },
    {
     "data": {
      "image/png": "[encoded data removed]",
      "text/plain": [
       "<Figure size 576x432 with 1 Axes>"
      ]
     },
     "metadata": {
      "needs_background": "light"
     },
     "output_type": "display_data"
    }
   ],
   "source": [
    "print(c[\"Fatality\"].value_counts())\n",
    "\n",
    "plt.figure(figsize=(8,6))\n",
    "c[\"Fatality\"].value_counts().plot(kind='bar')\n",
    "plt.xlabel(\"Fatality\")\n",
    "plt.ylabel(\"Count\")"
   ]
  },
  {
   "cell_type": "markdown",
   "metadata": {},
   "source": [
    "There are way more Fatality == 1 observations than Fatality == 0 observations. \n",
    "\n",
    "In making side-by-side bar plots of value counts of predictors' values when response == 1 and response == 0, let's only show plots with response = Fatality == 1, since otherwise, the overwhelming size of observations with Fatality == 0 would overwhelm the size of bars with Fatality == 0."
   ]
  },
  {
   "cell_type": "code",
   "execution_count": 12,
   "metadata": {},
   "outputs": [
    {
     "data": {
      "text/plain": [
       "['COLLISION_TIME',\n",
       " 'INTERSECTION',\n",
       " 'PEDESTRIAN_ACCIDENT',\n",
       " 'BICYCLE_ACCIDENT',\n",
       " 'MOTORCYCLE_ACCIDENT',\n",
       " 'WET_ROAD_SURFACE',\n",
       " 'ROAD_COND_ISSUE']"
      ]
     },
     "execution_count": 12,
     "metadata": {},
     "output_type": "execute_result"
    }
   ],
   "source": [
    "# get list of all possible predictors\n",
    "pred_col = [col for col in c.columns if col != \"CASE_ID\" and col != \"Fatality\"]\n",
    "pred_col"
   ]
  },
  {
   "cell_type": "markdown",
   "metadata": {},
   "source": [
    "**Value counts for each predictor when Fatality = 1:**"
   ]
  },
  {
   "cell_type": "code",
   "execution_count": 13,
   "metadata": {},
   "outputs": [
    {
     "data": {
      "text/plain": [
       "Text(0.5, 0.98, 'Value counts for predictors when Fatality = 1')"
      ]
     },
     "execution_count": 13,
     "metadata": {},
     "output_type": "execute_result"
    },
    {
     "data": {
      "text/plain": [
       "<Figure size 432x288 with 0 Axes>"
      ]
     },
     "metadata": {},
     "output_type": "display_data"
    },
    {
     "data": {
      "image/png": "[encoded data removed]",
      "text/plain": [
       "<Figure size 576x576 with 7 Axes>"
      ]
     },
     "metadata": {
      "needs_background": "light"
     },
     "output_type": "display_data"
    }
   ],
   "source": [
    "fig = plt.figure()\n",
    "plt.figure(figsize=(8,8))\n",
    "fig.subplots_adjust(hspace=1, wspace=0.5)\n",
    "for i, col in enumerate(pred_col, start = 1):\n",
    "    plt.subplot(3, 3, i)\n",
    "    cfp = c[[\"Fatality\", col, \"CASE_ID\"]].groupby([\"Fatality\", col]).count().reset_index()\n",
    "    cfp.loc[cfp.Fatality == 1][\"CASE_ID\"].plot(kind='bar')\n",
    "    if col!=\"COLLISION_TIME\":\n",
    "        plt.xticks(np.arange(0,2), (0, 1))\n",
    "    plt.xlabel(col)\n",
    "fig.suptitle(\"Value counts for predictors when Fatality = 1\")"
   ]
  },
  {
   "cell_type": "markdown",
   "metadata": {},
   "source": [
    "**Value counts for each predictor when Fatality = 0:**"
   ]
  },
  {
   "cell_type": "code",
   "execution_count": 14,
   "metadata": {},
   "outputs": [
    {
     "data": {
      "text/plain": [
       "Text(0.5, 0.98, 'Value counts for predictors when Fatality = 0')"
      ]
     },
     "execution_count": 14,
     "metadata": {},
     "output_type": "execute_result"
    },
    {
     "data": {
      "text/plain": [
       "<Figure size 432x288 with 0 Axes>"
      ]
     },
     "metadata": {},
     "output_type": "display_data"
    },
    {
     "data": {
      "image/png": "[encoded data removed]",
      "text/plain": [
       "<Figure size 576x576 with 7 Axes>"
      ]
     },
     "metadata": {
      "needs_background": "light"
     },
     "output_type": "display_data"
    }
   ],
   "source": [
    "fig = plt.figure()\n",
    "plt.figure(figsize=(8,8))\n",
    "fig.subplots_adjust(hspace=1, wspace=0.5)\n",
    "for i, col in enumerate(pred_col, start = 1):\n",
    "    plt.subplot(3, 3, i)\n",
    "    cfp = c[[\"Fatality\", col, \"CASE_ID\"]].groupby([\"Fatality\", col]).count().reset_index()\n",
    "    cfp.loc[cfp.Fatality == 1][\"CASE_ID\"].plot(kind='bar')\n",
    "    if col!=\"COLLISION_TIME\":\n",
    "        plt.xticks(np.arange(0,2), (0, 1))\n",
    "    plt.xlabel(col)\n",
    "fig.suptitle(\"Value counts for predictors when Fatality = 0\")"
   ]
  },
  {
   "cell_type": "code",
   "execution_count": 15,
   "metadata": {},
   "outputs": [
    {
     "name": "stdout",
     "output_type": "stream",
     "text": [
      "COLLISION_TIME\n",
      "    Fatality  COLLISION_TIME  Count\n",
      "0        0.0               0     68\n",
      "1        0.0               1     69\n",
      "2        0.0               2     71\n",
      "3        0.0               3     36\n",
      "4        0.0               4     47\n",
      "5        0.0               5     38\n",
      "6        0.0               6     81\n",
      "7        0.0               7    156\n",
      "8        0.0               8    237\n",
      "9        0.0               9    195\n",
      "10       0.0              10    175\n",
      "11       0.0              11    200\n",
      "12       0.0              12    190\n",
      "13       0.0              13    202\n",
      "14       0.0              14    246\n",
      "15       0.0              15    259\n",
      "16       0.0              16    245\n",
      "17       0.0              17    303\n",
      "18       0.0              18    256\n",
      "19       0.0              19    188\n",
      "20       0.0              20    167\n",
      "21       0.0              21    158\n",
      "22       0.0              22    133\n",
      "23       0.0              23    124\n",
      "24       0.0              25      2\n",
      "25       1.0               1      1\n",
      "26       1.0               5      3\n",
      "27       1.0               6      1\n",
      "28       1.0               9      1\n",
      "29       1.0              10      2\n",
      "30       1.0              11      1\n",
      "31       1.0              12      3\n",
      "32       1.0              13      1\n",
      "33       1.0              14      2\n",
      "34       1.0              15      1\n",
      "35       1.0              17      1\n",
      "36       1.0              18      1\n",
      "37       1.0              19      1\n",
      "38       1.0              21      2\n",
      "39       1.0              22      1\n",
      "40       1.0              23      2\n",
      "\n",
      "\n",
      "INTERSECTION\n",
      "   Fatality  INTERSECTION  Count\n",
      "0       0.0             0   1949\n",
      "1       0.0             1   1897\n",
      "2       1.0             0     19\n",
      "3       1.0             1      5\n",
      "\n",
      "\n",
      "PEDESTRIAN_ACCIDENT\n",
      "   Fatality  PEDESTRIAN_ACCIDENT  Count\n",
      "0       0.0                  0.0   3018\n",
      "1       0.0                  1.0    828\n",
      "2       1.0                  0.0     11\n",
      "3       1.0                  1.0     13\n",
      "\n",
      "\n",
      "BICYCLE_ACCIDENT\n",
      "   Fatality  BICYCLE_ACCIDENT  Count\n",
      "0       0.0               0.0   3262\n",
      "1       0.0               1.0    584\n",
      "2       1.0               0.0     21\n",
      "3       1.0               1.0      3\n",
      "\n",
      "\n",
      "MOTORCYCLE_ACCIDENT\n",
      "   Fatality  MOTORCYCLE_ACCIDENT  Count\n",
      "0       0.0                  0.0   3368\n",
      "1       0.0                  1.0    478\n",
      "2       1.0                  0.0     20\n",
      "3       1.0                  1.0      4\n",
      "\n",
      "\n",
      "WET_ROAD_SURFACE\n",
      "   Fatality  WET_ROAD_SURFACE  Count\n",
      "0       0.0               0.0   3452\n",
      "1       0.0               1.0    394\n",
      "2       1.0               0.0     21\n",
      "3       1.0               1.0      3\n",
      "\n",
      "\n",
      "ROAD_COND_ISSUE\n",
      "   Fatality  ROAD_COND_ISSUE  Count\n",
      "0       0.0              0.0   3618\n",
      "1       0.0              1.0    228\n",
      "2       1.0              0.0     20\n",
      "3       1.0              1.0      4\n",
      "\n",
      "\n"
     ]
    }
   ],
   "source": [
    "# print out value counts (values of the bar figures above)\n",
    "for i, col in enumerate(pred_col, start = 1):\n",
    "    cfp = c[[\"Fatality\", col, \"CASE_ID\"]].groupby([\"Fatality\", col]).count().reset_index()\n",
    "    cfp.columns = [\"Fatality\", col, \"Count\"]\n",
    "    print(col)\n",
    "    print(cfp)\n",
    "    print(\"\\n\")"
   ]
  },
  {
   "cell_type": "markdown",
   "metadata": {},
   "source": [
    "Based on this data exploration, it looks like PEDESTRIAN_ACCIDENT may be a promising predictor: Given Fatality == 1, there are more observations with PEDESTRIAN_ACCIDENT == 1 than observations with PEDESTRIAN_ACCIDENT == 0.\n",
    "\n",
    "It is unclear from initial exploration which other variables might be important predictors."
   ]
  },
  {
   "cell_type": "markdown",
   "metadata": {},
   "source": [
    "## Model Selection "
   ]
  },
  {
   "cell_type": "markdown",
   "metadata": {},
   "source": [
    "Choose model with **stepwise regression with AIC and BIC**"
   ]
  },
  {
   "cell_type": "code",
   "execution_count": 16,
   "metadata": {},
   "outputs": [],
   "source": [
    "# function based on forward selection function from:\n",
    "# https://planspace.org/20150423-forward_selection_with_statsmodels/\n",
    "def forward_selected(data, response, aic_or_bic):\n",
    "    \"\"\"Logistic model designed by forward selection.\n",
    "\n",
    "    Parameters:\n",
    "    -----------\n",
    "    data : pandas DataFrame with all possible predictors and response\n",
    "\n",
    "    response: string, name of response column in data\n",
    "\n",
    "    Returns:\n",
    "    --------\n",
    "    model: an \"optimal\" fitted statsmodels linear model\n",
    "           with an intercept\n",
    "           selected by forward selection\n",
    "           evaluated by AIC or BIC\n",
    "    \"\"\"\n",
    "    remaining = set(data.columns) \n",
    "    remaining.remove(response)\n",
    "    selected = []\n",
    "    current_score, best_new_score = 9999, 9999  # set starting point scores really high: want low AIC\n",
    "    \n",
    "    while remaining and current_score == best_new_score:\n",
    "        scores_with_candidates = []\n",
    "        # regress response ~ prior selected predictors + each remaining predictor individually\n",
    "        for candidate in remaining:\n",
    "            formula = \"{} ~ {} + 1\".format(response,\n",
    "                                           ' + '.join(selected + [candidate]))\n",
    "            # do aic or bic score, depending on if you specified aic or bic in args\n",
    "            if aic_or_bic == \"AIC\":\n",
    "                score = smf.glm(formula=formula, data=data, family=sm.families.Binomial()).fit().aic \n",
    "            elif aic_or_bic == \"BIC\":\n",
    "                score = smf.glm(formula=formula, data=data, family=sm.families.Binomial()).fit().bic\n",
    "            else:\n",
    "                raise ValueError(\"Did not specify aic_or_bic = 'AIC' or 'BIC' in args\")\n",
    "            scores_with_candidates.append((score, candidate))\n",
    "        scores_with_candidates.sort(reverse=True)\n",
    "        best_new_score, best_candidate = scores_with_candidates.pop()\n",
    "        if current_score > best_new_score:\n",
    "            remaining.remove(best_candidate)\n",
    "            selected.append(best_candidate)\n",
    "            current_score = best_new_score\n",
    "    \n",
    "    # final selected model from stepwise selection\n",
    "    formula = \"{} ~ {} + 1\".format(response,' + '.join(selected))\n",
    "    model = smf.glm(formula=formula, data=data, family=sm.families.Binomial()).fit()\n",
    "    return model"
   ]
  },
  {
   "cell_type": "markdown",
   "metadata": {},
   "source": [
    "Model chosen by best AIC:"
   ]
  },
  {
   "cell_type": "code",
   "execution_count": 17,
   "metadata": {},
   "outputs": [],
   "source": [
    "model1 = forward_selected(c,'Fatality', \"AIC\")"
   ]
  },
  {
   "cell_type": "code",
   "execution_count": 18,
   "metadata": {},
   "outputs": [
    {
     "data": {
      "text/html": [
       "<table class=\"simpletable\">\n",
       "<caption>Generalized Linear Model Regression Results</caption>\n",
       "<tr>\n",
       "  <th>Dep. Variable:</th>       <td>Fatality</td>     <th>  No. Observations:  </th>  <td>  3870</td> \n",
       "</tr>\n",
       "<tr>\n",
       "  <th>Model:</th>                  <td>GLM</td>       <th>  Df Residuals:      </th>  <td>  3866</td> \n",
       "</tr>\n",
       "<tr>\n",
       "  <th>Model Family:</th>        <td>Binomial</td>     <th>  Df Model:          </th>  <td>     3</td> \n",
       "</tr>\n",
       "<tr>\n",
       "  <th>Link Function:</th>         <td>logit</td>      <th>  Scale:             </th> <td>  1.0000</td>\n",
       "</tr>\n",
       "<tr>\n",
       "  <th>Method:</th>                <td>IRLS</td>       <th>  Log-Likelihood:    </th> <td> -132.35</td>\n",
       "</tr>\n",
       "<tr>\n",
       "  <th>Date:</th>            <td>Sun, 13 Oct 2019</td> <th>  Deviance:          </th> <td>  264.71</td>\n",
       "</tr>\n",
       "<tr>\n",
       "  <th>Time:</th>                <td>17:51:09</td>     <th>  Pearson chi2:      </th> <td>3.12e+03</td>\n",
       "</tr>\n",
       "<tr>\n",
       "  <th>No. Iterations:</th>          <td>9</td>        <th>                     </th>     <td> </td>   \n",
       "</tr>\n",
       "<tr>\n",
       "  <th>Covariance Type:</th>     <td>nonrobust</td>    <th>                     </th>     <td> </td>   \n",
       "</tr>\n",
       "</table>\n",
       "<table class=\"simpletable\">\n",
       "<tr>\n",
       "           <td></td>              <th>coef</th>     <th>std err</th>      <th>z</th>      <th>P>|z|</th>  <th>[0.025</th>    <th>0.975]</th>  \n",
       "</tr>\n",
       "<tr>\n",
       "  <th>Intercept</th>           <td>   -5.2741</td> <td>    0.323</td> <td>  -16.312</td> <td> 0.000</td> <td>   -5.908</td> <td>   -4.640</td>\n",
       "</tr>\n",
       "<tr>\n",
       "  <th>PEDESTRIAN_ACCIDENT</th> <td>    1.6459</td> <td>    0.416</td> <td>    3.956</td> <td> 0.000</td> <td>    0.830</td> <td>    2.461</td>\n",
       "</tr>\n",
       "<tr>\n",
       "  <th>INTERSECTION</th>        <td>   -1.5631</td> <td>    0.509</td> <td>   -3.072</td> <td> 0.002</td> <td>   -2.560</td> <td>   -0.566</td>\n",
       "</tr>\n",
       "<tr>\n",
       "  <th>ROAD_COND_ISSUE</th>     <td>    1.2175</td> <td>    0.560</td> <td>    2.176</td> <td> 0.030</td> <td>    0.121</td> <td>    2.314</td>\n",
       "</tr>\n",
       "</table>"
      ],
      "text/plain": [
       "<class 'statsmodels.iolib.summary.Summary'>\n",
       "\"\"\"\n",
       "                 Generalized Linear Model Regression Results                  \n",
       "==============================================================================\n",
       "Dep. Variable:               Fatality   No. Observations:                 3870\n",
       "Model:                            GLM   Df Residuals:                     3866\n",
       "Model Family:                Binomial   Df Model:                            3\n",
       "Link Function:                  logit   Scale:                          1.0000\n",
       "Method:                          IRLS   Log-Likelihood:                -132.35\n",
       "Date:                Sun, 13 Oct 2019   Deviance:                       264.71\n",
       "Time:                        17:51:09   Pearson chi2:                 3.12e+03\n",
       "No. Iterations:                     9                                         \n",
       "Covariance Type:            nonrobust                                         \n",
       "=======================================================================================\n",
       "                          coef    std err          z      P>|z|      [0.025      0.975]\n",
       "---------------------------------------------------------------------------------------\n",
       "Intercept              -5.2741      0.323    -16.312      0.000      -5.908      -4.640\n",
       "PEDESTRIAN_ACCIDENT     1.6459      0.416      3.956      0.000       0.830       2.461\n",
       "INTERSECTION           -1.5631      0.509     -3.072      0.002      -2.560      -0.566\n",
       "ROAD_COND_ISSUE         1.2175      0.560      2.176      0.030       0.121       2.314\n",
       "=======================================================================================\n",
       "\"\"\""
      ]
     },
     "execution_count": 18,
     "metadata": {},
     "output_type": "execute_result"
    }
   ],
   "source": [
    "model1.summary()"
   ]
  },
  {
   "cell_type": "markdown",
   "metadata": {},
   "source": [
    "Model selected by best BIC:"
   ]
  },
  {
   "cell_type": "code",
   "execution_count": 19,
   "metadata": {},
   "outputs": [],
   "source": [
    "model2 = forward_selected(c,'Fatality', \"BIC\")"
   ]
  },
  {
   "cell_type": "code",
   "execution_count": 20,
   "metadata": {},
   "outputs": [
    {
     "data": {
      "text/html": [
       "<table class=\"simpletable\">\n",
       "<caption>Generalized Linear Model Regression Results</caption>\n",
       "<tr>\n",
       "  <th>Dep. Variable:</th>       <td>Fatality</td>     <th>  No. Observations:  </th>  <td>  3870</td> \n",
       "</tr>\n",
       "<tr>\n",
       "  <th>Model:</th>                  <td>GLM</td>       <th>  Df Residuals:      </th>  <td>  3867</td> \n",
       "</tr>\n",
       "<tr>\n",
       "  <th>Model Family:</th>        <td>Binomial</td>     <th>  Df Model:          </th>  <td>     2</td> \n",
       "</tr>\n",
       "<tr>\n",
       "  <th>Link Function:</th>         <td>logit</td>      <th>  Scale:             </th> <td>  1.0000</td>\n",
       "</tr>\n",
       "<tr>\n",
       "  <th>Method:</th>                <td>IRLS</td>       <th>  Log-Likelihood:    </th> <td> -134.18</td>\n",
       "</tr>\n",
       "<tr>\n",
       "  <th>Date:</th>            <td>Sun, 13 Oct 2019</td> <th>  Deviance:          </th> <td>  268.37</td>\n",
       "</tr>\n",
       "<tr>\n",
       "  <th>Time:</th>                <td>17:51:10</td>     <th>  Pearson chi2:      </th> <td>3.50e+03</td>\n",
       "</tr>\n",
       "<tr>\n",
       "  <th>No. Iterations:</th>          <td>9</td>        <th>                     </th>     <td> </td>   \n",
       "</tr>\n",
       "<tr>\n",
       "  <th>Covariance Type:</th>     <td>nonrobust</td>    <th>                     </th>     <td> </td>   \n",
       "</tr>\n",
       "</table>\n",
       "<table class=\"simpletable\">\n",
       "<tr>\n",
       "           <td></td>              <th>coef</th>     <th>std err</th>      <th>z</th>      <th>P>|z|</th>  <th>[0.025</th>    <th>0.975]</th>  \n",
       "</tr>\n",
       "<tr>\n",
       "  <th>Intercept</th>           <td>   -5.1657</td> <td>    0.312</td> <td>  -16.532</td> <td> 0.000</td> <td>   -5.778</td> <td>   -4.553</td>\n",
       "</tr>\n",
       "<tr>\n",
       "  <th>PEDESTRIAN_ACCIDENT</th> <td>    1.6662</td> <td>    0.416</td> <td>    4.008</td> <td> 0.000</td> <td>    0.851</td> <td>    2.481</td>\n",
       "</tr>\n",
       "<tr>\n",
       "  <th>INTERSECTION</th>        <td>   -1.5367</td> <td>    0.508</td> <td>   -3.022</td> <td> 0.003</td> <td>   -2.533</td> <td>   -0.540</td>\n",
       "</tr>\n",
       "</table>"
      ],
      "text/plain": [
       "<class 'statsmodels.iolib.summary.Summary'>\n",
       "\"\"\"\n",
       "                 Generalized Linear Model Regression Results                  \n",
       "==============================================================================\n",
       "Dep. Variable:               Fatality   No. Observations:                 3870\n",
       "Model:                            GLM   Df Residuals:                     3867\n",
       "Model Family:                Binomial   Df Model:                            2\n",
       "Link Function:                  logit   Scale:                          1.0000\n",
       "Method:                          IRLS   Log-Likelihood:                -134.18\n",
       "Date:                Sun, 13 Oct 2019   Deviance:                       268.37\n",
       "Time:                        17:51:10   Pearson chi2:                 3.50e+03\n",
       "No. Iterations:                     9                                         \n",
       "Covariance Type:            nonrobust                                         \n",
       "=======================================================================================\n",
       "                          coef    std err          z      P>|z|      [0.025      0.975]\n",
       "---------------------------------------------------------------------------------------\n",
       "Intercept              -5.1657      0.312    -16.532      0.000      -5.778      -4.553\n",
       "PEDESTRIAN_ACCIDENT     1.6662      0.416      4.008      0.000       0.851       2.481\n",
       "INTERSECTION           -1.5367      0.508     -3.022      0.003      -2.533      -0.540\n",
       "=======================================================================================\n",
       "\"\"\""
      ]
     },
     "execution_count": 20,
     "metadata": {},
     "output_type": "execute_result"
    }
   ],
   "source": [
    "model2.summary()"
   ]
  },
  {
   "cell_type": "markdown",
   "metadata": {},
   "source": [
    "AIC chose model1 = Fatality ~ PEDESTRIAN_ACCIDENT + INTERSECTION + ROAD_COND_ISSUE\n",
    "\n",
    "BIC chose model2 = Fatality ~ PEDESTRIAN_ACCIDENT + INTERSECTION \n",
    "\n",
    "(makes sense: AIC and BIC work similarly but BIC penalizes model complexity/number of predictors more)\n",
    "\n",
    "In this model selection, AIC selected a model with a subset of predictors of BIC's model. Let BIC-selected model = model2 = full model, and AIC-selected model = model1 = reduced model going forward."
   ]
  },
  {
   "cell_type": "markdown",
   "metadata": {},
   "source": [
    "**Wald test:** \n",
    "<br>Check p-values in regression summary. For both full and reduced models, all predictors are significant by Wald test (p-values < alpha = 0.05)"
   ]
  },
  {
   "cell_type": "markdown",
   "metadata": {},
   "source": [
    "**Deviance test:** \n",
    "<br>Let's check whether we should do reduced model or full model.\n",
    "\n",
    "H0: Reduced model \n",
    "<br>Ha: Full model\n",
    "<br>$\\Delta G^{2}$ = $G^{2}$(reduced model) − $G^{2}$(full model)\n",
    "\n",
    "Compare against $\\chi^{2}$($\\alpha$ = 0.05, df = $p_{full}$ - $p_{reduced}$ = 3-2 = 1)"
   ]
  },
  {
   "cell_type": "code",
   "execution_count": 21,
   "metadata": {},
   "outputs": [
    {
     "data": {
      "text/plain": [
       "3.6576426516627976"
      ]
     },
     "execution_count": 21,
     "metadata": {},
     "output_type": "execute_result"
    }
   ],
   "source": [
    "delta_G2 = model2.deviance - model1.deviance\n",
    "delta_G2"
   ]
  },
  {
   "cell_type": "markdown",
   "metadata": {},
   "source": []
  },
  {
   "cell_type": "code",
   "execution_count": 22,
   "metadata": {},
   "outputs": [
    {
     "data": {
      "text/plain": [
       "3.8414588206941285"
      ]
     },
     "execution_count": 22,
     "metadata": {},
     "output_type": "execute_result"
    }
   ],
   "source": [
    "chi2.isf(0.05, 1)"
   ]
  },
  {
   "cell_type": "markdown",
   "metadata": {},
   "source": [
    "$\\Delta G^{2}$ < $\\chi^{2}$($\\alpha$ = 0.05, df = 1): Fail to reject H0. \n",
    "<br>Thus, keep reduced model: model1 = Fatality ~ PEDESTRIAN_ACCIDENT + INTERSECTION"
   ]
  },
  {
   "cell_type": "markdown",
   "metadata": {},
   "source": [
    "### Model selected: Fatality ~ PEDESTRIAN_ACCIDENT + INTERSECTION"
   ]
  },
  {
   "cell_type": "markdown",
   "metadata": {},
   "source": [
    "## Model Diagnosis"
   ]
  },
  {
   "cell_type": "markdown",
   "metadata": {},
   "source": [
    "### Check for influential points "
   ]
  },
  {
   "cell_type": "markdown",
   "metadata": {},
   "source": [
    "Get **Pearson residuals** from GLM results; make **residual plot**"
   ]
  },
  {
   "cell_type": "code",
   "execution_count": 23,
   "metadata": {},
   "outputs": [
    {
     "data": {
      "image/png": "[encoded data removed]",
      "text/plain": [
       "<Figure size 576x432 with 1 Axes>"
      ]
     },
     "metadata": {
      "needs_background": "light"
     },
     "output_type": "display_data"
    }
   ],
   "source": [
    "plt.figure(figsize=(8,6))\n",
    "plt.scatter(model2.fittedvalues, model2.resid_pearson)\n",
    "plt.xlabel(\"Fitted values\")\n",
    "plt.ylabel(\"Pearson residuals\")\n",
    "plt.show()"
   ]
  },
  {
   "cell_type": "markdown",
   "metadata": {},
   "source": [
    "We expect residuals to largely sit in a band within (-3, 3); ones that are outside of that range may be influential points"
   ]
  },
  {
   "cell_type": "code",
   "execution_count": 24,
   "metadata": {},
   "outputs": [
    {
     "data": {
      "text/plain": [
       "[(644, 12.405003554771302),\n",
       " (1389, 12.405003554771302),\n",
       " (2089, 5.7531162491595955),\n",
       " (2132, 5.7531162491595955),\n",
       " (2133, 5.7531162491595955),\n",
       " (2134, 28.53704209811715),\n",
       " (2135, 13.234733861441123),\n",
       " (3431, 13.234733861441123),\n",
       " (3432, 12.405003554771302),\n",
       " (3433, 5.7531162491595955),\n",
       " (3434, 13.234733861441123),\n",
       " (3435, 13.234733861441123),\n",
       " (3436, 5.7531162491595955),\n",
       " (3437, 13.234733861441123),\n",
       " (3438, 5.7531162491595955),\n",
       " (3439, 13.234733861441123),\n",
       " (3440, 13.234733861441123),\n",
       " (3441, 12.405003554771302),\n",
       " (3442, 5.7531162491595955),\n",
       " (3443, 5.7531162491595955),\n",
       " (3635, 13.234733861441123),\n",
       " (3686, 5.7531162491595955),\n",
       " (3867, 13.234733861441123),\n",
       " (3868, 13.234733861441123)]"
      ]
     },
     "execution_count": 24,
     "metadata": {},
     "output_type": "execute_result"
    }
   ],
   "source": [
    "model2_infl_pearsonres = [(i, resid) for i, resid in enumerate(model2.resid_pearson) if abs(resid)>3]\n",
    "model2_infl_pearsonres"
   ]
  },
  {
   "cell_type": "code",
   "execution_count": 25,
   "metadata": {},
   "outputs": [
    {
     "data": {
      "text/html": [
       "<div>\n",
       "<style scoped>\n",
       "    .dataframe tbody tr th:only-of-type {\n",
       "        vertical-align: middle;\n",
       "    }\n",
       "\n",
       "    .dataframe tbody tr th {\n",
       "        vertical-align: top;\n",
       "    }\n",
       "\n",
       "    .dataframe thead th {\n",
       "        text-align: right;\n",
       "    }\n",
       "</style>\n",
       "<table border=\"1\" class=\"dataframe\">\n",
       "  <thead>\n",
       "    <tr style=\"text-align: right;\">\n",
       "      <th></th>\n",
       "      <th>CASE_ID</th>\n",
       "      <th>Fatality</th>\n",
       "      <th>COLLISION_TIME</th>\n",
       "      <th>INTERSECTION</th>\n",
       "      <th>PEDESTRIAN_ACCIDENT</th>\n",
       "      <th>BICYCLE_ACCIDENT</th>\n",
       "      <th>MOTORCYCLE_ACCIDENT</th>\n",
       "      <th>WET_ROAD_SURFACE</th>\n",
       "      <th>ROAD_COND_ISSUE</th>\n",
       "    </tr>\n",
       "  </thead>\n",
       "  <tbody>\n",
       "    <tr>\n",
       "      <td>644</td>\n",
       "      <td>8758262</td>\n",
       "      <td>1.0</td>\n",
       "      <td>11</td>\n",
       "      <td>1</td>\n",
       "      <td>1.0</td>\n",
       "      <td>0.0</td>\n",
       "      <td>0.0</td>\n",
       "      <td>0.0</td>\n",
       "      <td>0.0</td>\n",
       "    </tr>\n",
       "    <tr>\n",
       "      <td>1389</td>\n",
       "      <td>8704074</td>\n",
       "      <td>1.0</td>\n",
       "      <td>1</td>\n",
       "      <td>1</td>\n",
       "      <td>1.0</td>\n",
       "      <td>0.0</td>\n",
       "      <td>0.0</td>\n",
       "      <td>0.0</td>\n",
       "      <td>0.0</td>\n",
       "    </tr>\n",
       "    <tr>\n",
       "      <td>2089</td>\n",
       "      <td>8650558</td>\n",
       "      <td>1.0</td>\n",
       "      <td>19</td>\n",
       "      <td>0</td>\n",
       "      <td>1.0</td>\n",
       "      <td>0.0</td>\n",
       "      <td>0.0</td>\n",
       "      <td>0.0</td>\n",
       "      <td>0.0</td>\n",
       "    </tr>\n",
       "    <tr>\n",
       "      <td>2132</td>\n",
       "      <td>8648402</td>\n",
       "      <td>1.0</td>\n",
       "      <td>14</td>\n",
       "      <td>0</td>\n",
       "      <td>1.0</td>\n",
       "      <td>0.0</td>\n",
       "      <td>0.0</td>\n",
       "      <td>0.0</td>\n",
       "      <td>0.0</td>\n",
       "    </tr>\n",
       "    <tr>\n",
       "      <td>2133</td>\n",
       "      <td>8648283</td>\n",
       "      <td>1.0</td>\n",
       "      <td>23</td>\n",
       "      <td>0</td>\n",
       "      <td>1.0</td>\n",
       "      <td>0.0</td>\n",
       "      <td>0.0</td>\n",
       "      <td>0.0</td>\n",
       "      <td>0.0</td>\n",
       "    </tr>\n",
       "    <tr>\n",
       "      <td>2134</td>\n",
       "      <td>8648194</td>\n",
       "      <td>1.0</td>\n",
       "      <td>17</td>\n",
       "      <td>1</td>\n",
       "      <td>0.0</td>\n",
       "      <td>1.0</td>\n",
       "      <td>0.0</td>\n",
       "      <td>0.0</td>\n",
       "      <td>1.0</td>\n",
       "    </tr>\n",
       "    <tr>\n",
       "      <td>2135</td>\n",
       "      <td>8648043</td>\n",
       "      <td>1.0</td>\n",
       "      <td>22</td>\n",
       "      <td>0</td>\n",
       "      <td>0.0</td>\n",
       "      <td>0.0</td>\n",
       "      <td>0.0</td>\n",
       "      <td>0.0</td>\n",
       "      <td>0.0</td>\n",
       "    </tr>\n",
       "    <tr>\n",
       "      <td>3431</td>\n",
       "      <td>8465708</td>\n",
       "      <td>1.0</td>\n",
       "      <td>5</td>\n",
       "      <td>0</td>\n",
       "      <td>0.0</td>\n",
       "      <td>0.0</td>\n",
       "      <td>1.0</td>\n",
       "      <td>0.0</td>\n",
       "      <td>0.0</td>\n",
       "    </tr>\n",
       "    <tr>\n",
       "      <td>3432</td>\n",
       "      <td>8465701</td>\n",
       "      <td>1.0</td>\n",
       "      <td>12</td>\n",
       "      <td>1</td>\n",
       "      <td>1.0</td>\n",
       "      <td>0.0</td>\n",
       "      <td>0.0</td>\n",
       "      <td>0.0</td>\n",
       "      <td>0.0</td>\n",
       "    </tr>\n",
       "    <tr>\n",
       "      <td>3433</td>\n",
       "      <td>8465618</td>\n",
       "      <td>1.0</td>\n",
       "      <td>21</td>\n",
       "      <td>0</td>\n",
       "      <td>1.0</td>\n",
       "      <td>0.0</td>\n",
       "      <td>0.0</td>\n",
       "      <td>0.0</td>\n",
       "      <td>0.0</td>\n",
       "    </tr>\n",
       "    <tr>\n",
       "      <td>3434</td>\n",
       "      <td>8465608</td>\n",
       "      <td>1.0</td>\n",
       "      <td>12</td>\n",
       "      <td>0</td>\n",
       "      <td>0.0</td>\n",
       "      <td>1.0</td>\n",
       "      <td>0.0</td>\n",
       "      <td>0.0</td>\n",
       "      <td>0.0</td>\n",
       "    </tr>\n",
       "    <tr>\n",
       "      <td>3435</td>\n",
       "      <td>8465607</td>\n",
       "      <td>1.0</td>\n",
       "      <td>15</td>\n",
       "      <td>0</td>\n",
       "      <td>0.0</td>\n",
       "      <td>0.0</td>\n",
       "      <td>1.0</td>\n",
       "      <td>0.0</td>\n",
       "      <td>1.0</td>\n",
       "    </tr>\n",
       "    <tr>\n",
       "      <td>3436</td>\n",
       "      <td>8465594</td>\n",
       "      <td>1.0</td>\n",
       "      <td>14</td>\n",
       "      <td>0</td>\n",
       "      <td>1.0</td>\n",
       "      <td>0.0</td>\n",
       "      <td>0.0</td>\n",
       "      <td>0.0</td>\n",
       "      <td>1.0</td>\n",
       "    </tr>\n",
       "    <tr>\n",
       "      <td>3437</td>\n",
       "      <td>8465554</td>\n",
       "      <td>1.0</td>\n",
       "      <td>23</td>\n",
       "      <td>0</td>\n",
       "      <td>0.0</td>\n",
       "      <td>0.0</td>\n",
       "      <td>0.0</td>\n",
       "      <td>1.0</td>\n",
       "      <td>0.0</td>\n",
       "    </tr>\n",
       "    <tr>\n",
       "      <td>3438</td>\n",
       "      <td>8465384</td>\n",
       "      <td>1.0</td>\n",
       "      <td>10</td>\n",
       "      <td>0</td>\n",
       "      <td>1.0</td>\n",
       "      <td>0.0</td>\n",
       "      <td>0.0</td>\n",
       "      <td>0.0</td>\n",
       "      <td>0.0</td>\n",
       "    </tr>\n",
       "    <tr>\n",
       "      <td>3439</td>\n",
       "      <td>8404868</td>\n",
       "      <td>1.0</td>\n",
       "      <td>13</td>\n",
       "      <td>0</td>\n",
       "      <td>0.0</td>\n",
       "      <td>0.0</td>\n",
       "      <td>0.0</td>\n",
       "      <td>0.0</td>\n",
       "      <td>0.0</td>\n",
       "    </tr>\n",
       "    <tr>\n",
       "      <td>3440</td>\n",
       "      <td>8404793</td>\n",
       "      <td>1.0</td>\n",
       "      <td>12</td>\n",
       "      <td>0</td>\n",
       "      <td>0.0</td>\n",
       "      <td>1.0</td>\n",
       "      <td>0.0</td>\n",
       "      <td>0.0</td>\n",
       "      <td>0.0</td>\n",
       "    </tr>\n",
       "    <tr>\n",
       "      <td>3441</td>\n",
       "      <td>8167171</td>\n",
       "      <td>1.0</td>\n",
       "      <td>9</td>\n",
       "      <td>1</td>\n",
       "      <td>1.0</td>\n",
       "      <td>0.0</td>\n",
       "      <td>0.0</td>\n",
       "      <td>0.0</td>\n",
       "      <td>0.0</td>\n",
       "    </tr>\n",
       "    <tr>\n",
       "      <td>3442</td>\n",
       "      <td>8167158</td>\n",
       "      <td>1.0</td>\n",
       "      <td>5</td>\n",
       "      <td>0</td>\n",
       "      <td>1.0</td>\n",
       "      <td>0.0</td>\n",
       "      <td>0.0</td>\n",
       "      <td>1.0</td>\n",
       "      <td>1.0</td>\n",
       "    </tr>\n",
       "    <tr>\n",
       "      <td>3443</td>\n",
       "      <td>8167156</td>\n",
       "      <td>1.0</td>\n",
       "      <td>6</td>\n",
       "      <td>0</td>\n",
       "      <td>1.0</td>\n",
       "      <td>0.0</td>\n",
       "      <td>0.0</td>\n",
       "      <td>0.0</td>\n",
       "      <td>0.0</td>\n",
       "    </tr>\n",
       "    <tr>\n",
       "      <td>3635</td>\n",
       "      <td>90797566</td>\n",
       "      <td>1.0</td>\n",
       "      <td>18</td>\n",
       "      <td>0</td>\n",
       "      <td>0.0</td>\n",
       "      <td>0.0</td>\n",
       "      <td>0.0</td>\n",
       "      <td>1.0</td>\n",
       "      <td>0.0</td>\n",
       "    </tr>\n",
       "    <tr>\n",
       "      <td>3686</td>\n",
       "      <td>90818321</td>\n",
       "      <td>1.0</td>\n",
       "      <td>5</td>\n",
       "      <td>0</td>\n",
       "      <td>1.0</td>\n",
       "      <td>0.0</td>\n",
       "      <td>0.0</td>\n",
       "      <td>0.0</td>\n",
       "      <td>0.0</td>\n",
       "    </tr>\n",
       "    <tr>\n",
       "      <td>3867</td>\n",
       "      <td>90917127</td>\n",
       "      <td>1.0</td>\n",
       "      <td>21</td>\n",
       "      <td>0</td>\n",
       "      <td>0.0</td>\n",
       "      <td>0.0</td>\n",
       "      <td>1.0</td>\n",
       "      <td>0.0</td>\n",
       "      <td>0.0</td>\n",
       "    </tr>\n",
       "    <tr>\n",
       "      <td>3868</td>\n",
       "      <td>90933900</td>\n",
       "      <td>1.0</td>\n",
       "      <td>10</td>\n",
       "      <td>0</td>\n",
       "      <td>0.0</td>\n",
       "      <td>0.0</td>\n",
       "      <td>1.0</td>\n",
       "      <td>0.0</td>\n",
       "      <td>0.0</td>\n",
       "    </tr>\n",
       "  </tbody>\n",
       "</table>\n",
       "</div>"
      ],
      "text/plain": [
       "       CASE_ID  Fatality  COLLISION_TIME  INTERSECTION  PEDESTRIAN_ACCIDENT  \\\n",
       "644    8758262       1.0              11             1                  1.0   \n",
       "1389   8704074       1.0               1             1                  1.0   \n",
       "2089   8650558       1.0              19             0                  1.0   \n",
       "2132   8648402       1.0              14             0                  1.0   \n",
       "2133   8648283       1.0              23             0                  1.0   \n",
       "2134   8648194       1.0              17             1                  0.0   \n",
       "2135   8648043       1.0              22             0                  0.0   \n",
       "3431   8465708       1.0               5             0                  0.0   \n",
       "3432   8465701       1.0              12             1                  1.0   \n",
       "3433   8465618       1.0              21             0                  1.0   \n",
       "3434   8465608       1.0              12             0                  0.0   \n",
       "3435   8465607       1.0              15             0                  0.0   \n",
       "3436   8465594       1.0              14             0                  1.0   \n",
       "3437   8465554       1.0              23             0                  0.0   \n",
       "3438   8465384       1.0              10             0                  1.0   \n",
       "3439   8404868       1.0              13             0                  0.0   \n",
       "3440   8404793       1.0              12             0                  0.0   \n",
       "3441   8167171       1.0               9             1                  1.0   \n",
       "3442   8167158       1.0               5             0                  1.0   \n",
       "3443   8167156       1.0               6             0                  1.0   \n",
       "3635  90797566       1.0              18             0                  0.0   \n",
       "3686  90818321       1.0               5             0                  1.0   \n",
       "3867  90917127       1.0              21             0                  0.0   \n",
       "3868  90933900       1.0              10             0                  0.0   \n",
       "\n",
       "      BICYCLE_ACCIDENT  MOTORCYCLE_ACCIDENT  WET_ROAD_SURFACE  ROAD_COND_ISSUE  \n",
       "644                0.0                  0.0               0.0              0.0  \n",
       "1389               0.0                  0.0               0.0              0.0  \n",
       "2089               0.0                  0.0               0.0              0.0  \n",
       "2132               0.0                  0.0               0.0              0.0  \n",
       "2133               0.0                  0.0               0.0              0.0  \n",
       "2134               1.0                  0.0               0.0              1.0  \n",
       "2135               0.0                  0.0               0.0              0.0  \n",
       "3431               0.0                  1.0               0.0              0.0  \n",
       "3432               0.0                  0.0               0.0              0.0  \n",
       "3433               0.0                  0.0               0.0              0.0  \n",
       "3434               1.0                  0.0               0.0              0.0  \n",
       "3435               0.0                  1.0               0.0              1.0  \n",
       "3436               0.0                  0.0               0.0              1.0  \n",
       "3437               0.0                  0.0               1.0              0.0  \n",
       "3438               0.0                  0.0               0.0              0.0  \n",
       "3439               0.0                  0.0               0.0              0.0  \n",
       "3440               1.0                  0.0               0.0              0.0  \n",
       "3441               0.0                  0.0               0.0              0.0  \n",
       "3442               0.0                  0.0               1.0              1.0  \n",
       "3443               0.0                  0.0               0.0              0.0  \n",
       "3635               0.0                  0.0               1.0              0.0  \n",
       "3686               0.0                  0.0               0.0              0.0  \n",
       "3867               0.0                  1.0               0.0              0.0  \n",
       "3868               0.0                  1.0               0.0              0.0  "
      ]
     },
     "execution_count": 25,
     "metadata": {},
     "output_type": "execute_result"
    }
   ],
   "source": [
    "c.loc[c.Fatality == 1]"
   ]
  },
  {
   "cell_type": "markdown",
   "metadata": {},
   "source": [
    "The influential points indicated by Pearson residuals are merely the 24 observations where the response (Fatality) = 1."
   ]
  },
  {
   "cell_type": "markdown",
   "metadata": {},
   "source": [
    "Get **hat matrix diagonals** to detect points of high leverage.\n",
    "<br>High leverage if hii > 3p/n, where p = number of parameters, and n = number of observations.\n",
    "\n",
    "In this model, p = 3 and n = 3870."
   ]
  },
  {
   "cell_type": "code",
   "execution_count": 26,
   "metadata": {},
   "outputs": [
    {
     "name": "stdout",
     "output_type": "stream",
     "text": [
      "331\n",
      "[(248, 0.0027313756278924844), (266, 0.0027313756278924844), (275, 0.0027313756278924844), (294, 0.0027313756278924844), (302, 0.0027313756278924844)]\n"
     ]
    }
   ],
   "source": [
    "model2_infl = model2.get_influence()\n",
    "model2_hii = model2_infl.hat_matrix_diag\n",
    "\n",
    "model2_high_hii = [(i,hii) for i, hii in enumerate(model2_hii) if hii > 3*3/3870]\n",
    "print(len(model2_high_hii))\n",
    "\n",
    "print(model2_high_hii[:5])  # sample of hiis, to avoid printing too much in PDF form"
   ]
  },
  {
   "cell_type": "markdown",
   "metadata": {},
   "source": [
    "There are 331 observations identified as high leverage. This may also be due to the small proportion of response = 1 observations."
   ]
  },
  {
   "cell_type": "markdown",
   "metadata": {},
   "source": [
    "Let's look for multicollinearity with **VIF**."
   ]
  },
  {
   "cell_type": "code",
   "execution_count": 27,
   "metadata": {},
   "outputs": [
    {
     "data": {
      "text/plain": [
       "[2.135256468353129, 1.0148973301357873, 1.0148973301357858]"
      ]
     },
     "execution_count": 27,
     "metadata": {},
     "output_type": "execute_result"
    }
   ],
   "source": [
    "[variance_inflation_factor(model2.model.exog, i) for i in range(model2.model.exog.shape[1])]"
   ]
  },
  {
   "cell_type": "markdown",
   "metadata": {},
   "source": [
    "There is no VIF over 4, so there is no issue of multicollinearity in this model."
   ]
  },
  {
   "cell_type": "markdown",
   "metadata": {},
   "source": [
    "Let's look at **pseudo R-squared**. Need to run Logit model to get McFadden's pseudo R-squared from model results"
   ]
  },
  {
   "cell_type": "code",
   "execution_count": 28,
   "metadata": {},
   "outputs": [
    {
     "name": "stdout",
     "output_type": "stream",
     "text": [
      "Optimization terminated successfully.\n",
      "         Current function value: 0.034673\n",
      "         Iterations 10\n"
     ]
    },
    {
     "data": {
      "text/plain": [
       "0.08041272688156353"
      ]
     },
     "execution_count": 28,
     "metadata": {},
     "output_type": "execute_result"
    }
   ],
   "source": [
    "formula = \"Fatality ~ PEDESTRIAN_ACCIDENT + INTERSECTION\"\n",
    "y,X = patsy.dmatrices(formula, data = c)\n",
    "\n",
    "model2_Logit = sm.Logit(y,X).fit()\n",
    "model2_Logit.prsquared"
   ]
  },
  {
   "cell_type": "markdown",
   "metadata": {},
   "source": [
    "This is not a great value of pseudo R-squared, indicating a poor goodness of fit. This is not surprising, due to the few observations with response = 1."
   ]
  },
  {
   "cell_type": "markdown",
   "metadata": {},
   "source": [
    "## Model Interpretation and Prediction"
   ]
  },
  {
   "cell_type": "markdown",
   "metadata": {},
   "source": [
    "Prediction with October - December 2017 data"
   ]
  },
  {
   "cell_type": "code",
   "execution_count": 29,
   "metadata": {},
   "outputs": [],
   "source": [
    "# read in observations to predict with\n",
    "c17 = pd.read_csv(\"Collisions_OctDec2017.csv\")"
   ]
  },
  {
   "cell_type": "code",
   "execution_count": 30,
   "metadata": {},
   "outputs": [
    {
     "data": {
      "text/html": [
       "<div>\n",
       "<style scoped>\n",
       "    .dataframe tbody tr th:only-of-type {\n",
       "        vertical-align: middle;\n",
       "    }\n",
       "\n",
       "    .dataframe tbody tr th {\n",
       "        vertical-align: top;\n",
       "    }\n",
       "\n",
       "    .dataframe thead th {\n",
       "        text-align: right;\n",
       "    }\n",
       "</style>\n",
       "<table border=\"1\" class=\"dataframe\">\n",
       "  <thead>\n",
       "    <tr style=\"text-align: right;\">\n",
       "      <th></th>\n",
       "      <th>INTERSECTION</th>\n",
       "      <th>PEDESTRIAN_ACCIDENT</th>\n",
       "      <th>Fatality</th>\n",
       "    </tr>\n",
       "  </thead>\n",
       "  <tbody>\n",
       "    <tr>\n",
       "      <td>0</td>\n",
       "      <td>0</td>\n",
       "      <td>0.0</td>\n",
       "      <td>1.0</td>\n",
       "    </tr>\n",
       "    <tr>\n",
       "      <td>1</td>\n",
       "      <td>0</td>\n",
       "      <td>1.0</td>\n",
       "      <td>1.0</td>\n",
       "    </tr>\n",
       "    <tr>\n",
       "      <td>2</td>\n",
       "      <td>0</td>\n",
       "      <td>0.0</td>\n",
       "      <td>0.0</td>\n",
       "    </tr>\n",
       "    <tr>\n",
       "      <td>3</td>\n",
       "      <td>0</td>\n",
       "      <td>0.0</td>\n",
       "      <td>0.0</td>\n",
       "    </tr>\n",
       "    <tr>\n",
       "      <td>4</td>\n",
       "      <td>0</td>\n",
       "      <td>0.0</td>\n",
       "      <td>0.0</td>\n",
       "    </tr>\n",
       "  </tbody>\n",
       "</table>\n",
       "</div>"
      ],
      "text/plain": [
       "   INTERSECTION  PEDESTRIAN_ACCIDENT  Fatality\n",
       "0             0                  0.0       1.0\n",
       "1             0                  1.0       1.0\n",
       "2             0                  0.0       0.0\n",
       "3             0                  0.0       0.0\n",
       "4             0                  0.0       0.0"
      ]
     },
     "execution_count": 30,
     "metadata": {},
     "output_type": "execute_result"
    }
   ],
   "source": [
    "# keep only variables we need\n",
    "c17 = c17[['COLLISION_SEVERITY', 'INTERSECTION', 'PEDESTRIAN_ACCIDENT']]\n",
    "\n",
    "# data cleaning: Recoding vars\n",
    "c17.loc[~(c17.INTERSECTION == \"Y\"), \"INTERSECTION\"] = 0\n",
    "c17.loc[c17.INTERSECTION == \"Y\", \"INTERSECTION\"] = 1\n",
    "c17[\"PEDESTRIAN_ACCIDENT\"] = Yfor1(c17.PEDESTRIAN_ACCIDENT)\n",
    "\n",
    "# make fatality variable\n",
    "c17.loc[c17.COLLISION_SEVERITY == 1, \"Fatality\"] = 1\n",
    "c17.loc[c17.COLLISION_SEVERITY != 1, \"Fatality\"] = 0\n",
    "\n",
    "# drop vars we don't use\n",
    "c17 = c17.drop(columns=[\"COLLISION_SEVERITY\"])\n",
    "\n",
    "c17.head()"
   ]
  },
  {
   "cell_type": "code",
   "execution_count": 31,
   "metadata": {},
   "outputs": [],
   "source": [
    "# use sm.Logit to predict\n",
    "formula = \"Fatality ~ PEDESTRIAN_ACCIDENT + INTERSECTION\"\n",
    "y17,X17 = patsy.dmatrices(formula, data = c17)\n",
    "\n",
    "y17_hat = model2_Logit.predict(X17)"
   ]
  },
  {
   "cell_type": "markdown",
   "metadata": {},
   "source": [
    "Check accuracy of predictions against actuals: October - December 2017 collision data"
   ]
  },
  {
   "cell_type": "code",
   "execution_count": 32,
   "metadata": {},
   "outputs": [
    {
     "data": {
      "text/plain": [
       "[(1.0, 0.005676716220756131, 0.9943232837792438),\n",
       " (1.0, 0.005676716220756131, 0.9943232837792438),\n",
       " (1.0, 0.006456440104661734, 0.9935435598953383),\n",
       " (1.0, 0.02932693518617086, 0.9706730648138291),\n",
       " (1.0, 0.02932693518617086, 0.9706730648138291),\n",
       " (1.0, 0.02932693518617086, 0.9706730648138291),\n",
       " (1.0, 0.02932693518617086, 0.9706730648138291),\n",
       " (1.0, 0.02932693518617086, 0.9706730648138291),\n",
       " (0.0, 0.001226447950159832, -0.001226447950159832),\n",
       " (0.0, 0.001226447950159832, -0.001226447950159832),\n",
       " (0.0, 0.001226447950159832, -0.001226447950159832),\n",
       " (0.0, 0.001226447950159832, -0.001226447950159832),\n",
       " (0.0, 0.001226447950159832, -0.001226447950159832),\n",
       " (0.0, 0.001226447950159832, -0.001226447950159832),\n",
       " (0.0, 0.001226447950159832, -0.001226447950159832)]"
      ]
     },
     "execution_count": 32,
     "metadata": {},
     "output_type": "execute_result"
    }
   ],
   "source": [
    "predictions17 = [(y[0], y_hat, y[0]-y_hat) for y, y_hat in zip(y17, y17_hat)]\n",
    "predictions17 = sorted(predictions17, key = lambda x: x[2], reverse = True)\n",
    "\n",
    "predictions17[:15] # sample of predictions, to avoid printing too much in PDF form"
   ]
  },
  {
   "cell_type": "markdown",
   "metadata": {},
   "source": [
    "The above shows the (y_i, yhat_i, resid_i) for each observation (aka, the observed response, predicted response, and observed - predicted)\n",
    "\n",
    "There are a lot of repeats in observations above. Summarize as value counts of each"
   ]
  },
  {
   "cell_type": "code",
   "execution_count": 33,
   "metadata": {},
   "outputs": [
    {
     "data": {
      "text/plain": [
       "Counter({(1.0, 0.005676716220756131, 0.9943232837792438): 2,\n",
       "         (1.0, 0.006456440104661734, 0.9935435598953383): 1,\n",
       "         (1.0, 0.02932693518617086, 0.9706730648138291): 5,\n",
       "         (0.0, 0.001226447950159832, -0.001226447950159832): 369,\n",
       "         (0.0, 0.005676716220756131, -0.005676716220756131): 437,\n",
       "         (0.0, 0.006456440104661734, -0.006456440104661734): 127,\n",
       "         (0.0, 0.02932693518617086, -0.02932693518617086): 87})"
      ]
     },
     "execution_count": 33,
     "metadata": {},
     "output_type": "execute_result"
    }
   ],
   "source": [
    "Counter(predictions17)"
   ]
  },
  {
   "cell_type": "markdown",
   "metadata": {},
   "source": [
    "Because of the very low proportion of fatalities relative to non-fatalities, the model predicts that a given collision will be non-fatal. Thus, for most observations, the model predicts a low yhat value, resulting in a low error; but when it comes to predicting the fatalities, the model predicts incorrectly and there is thus a high error."
   ]
  }
 ],
 "metadata": {
  "kernelspec": {
   "display_name": "Python 3",
   "language": "python",
   "name": "python3"
  },
  "language_info": {
   "codemirror_mode": {
    "name": "ipython",
    "version": 3
   },
   "file_extension": ".py",
   "mimetype": "text/x-python",
   "name": "python",
   "nbconvert_exporter": "python",
   "pygments_lexer": "ipython3",
   "version": "3.7.3"
  }
 },
 "nbformat": 4,
 "nbformat_minor": 2
}
