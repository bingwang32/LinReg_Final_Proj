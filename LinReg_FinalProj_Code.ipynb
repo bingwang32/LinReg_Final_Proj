{
 "cells": [
  {
   "cell_type": "markdown",
   "metadata": {},
   "source": [
    "## Linear Regression Final Project: Logistic Regression with Traffic Collision Data\n",
    "### Zachary Barnes and Bing Wang"
   ]
  },
  {
   "cell_type": "markdown",
   "metadata": {},
   "source": [
    "##### Housekeeping"
   ]
  },
  {
   "cell_type": "code",
   "execution_count": 1,
   "metadata": {
    "code_folding": []
   },
   "outputs": [],
   "source": [
    "# Load Python libraries\n",
    "import os\n",
    "import numpy as np\n",
    "import pandas as pd\n",
    "import statsmodels.api as sm\n",
    "import statsmodels.formula.api as smf\n",
    "import patsy\n",
    "import matplotlib.pyplot as plt\n",
    "from scipy.stats import chi2, chi2_contingency\n",
    "\n",
    "# Run R code adjacent to Python code\n",
    "%load_ext rpy2.ipython\n",
    "\n",
    "# Load ggplot R library\n",
    "%R library(ggplot2)\n",
    "%R library(scales)\n",
    "\n",
    "# Avoid kernal death\n",
    "os.environ['KMP_DUPLICATE_LIB_OK']='True'"
   ]
  },
  {
   "cell_type": "markdown",
   "metadata": {},
   "source": [
    "# Read in and organize data from TIMS (Collisions and Victims)"
   ]
  },
  {
   "cell_type": "markdown",
   "metadata": {},
   "source": [
    "#### Collisions data"
   ]
  },
  {
   "cell_type": "code",
   "execution_count": 2,
   "metadata": {
    "code_folding": []
   },
   "outputs": [],
   "source": [
    "c = pd.read_csv(\"Collisions.csv\")"
   ]
  },
  {
   "cell_type": "markdown",
   "metadata": {},
   "source": [
    "Response variable: Collision severity. We will code this as a binary variable, with 1 = fatality and 0 = not a fatality\n",
    "\n",
    "Keep a subset of predictors as full model: Based on previous knowledge, these are likely to be predictors of collision severity"
   ]
  },
  {
   "cell_type": "code",
   "execution_count": 3,
   "metadata": {},
   "outputs": [],
   "source": [
    "c = c[['CASE_ID', 'COLLISION_TIME','INTERSECTION','COLLISION_SEVERITY',\n",
    "       'ROAD_SURFACE', 'ROAD_COND_1', 'PEDESTRIAN_ACCIDENT',\n",
    "       'BICYCLE_ACCIDENT', 'MOTORCYCLE_ACCIDENT', 'ALCOHOL_INVOLVED']]"
   ]
  },
  {
   "cell_type": "markdown",
   "metadata": {},
   "source": [
    "Make datetime variables"
   ]
  },
  {
   "cell_type": "code",
   "execution_count": 4,
   "metadata": {},
   "outputs": [
    {
     "data": {
      "text/html": [
       "<div>\n",
       "<style scoped>\n",
       "    .dataframe tbody tr th:only-of-type {\n",
       "        vertical-align: middle;\n",
       "    }\n",
       "\n",
       "    .dataframe tbody tr th {\n",
       "        vertical-align: top;\n",
       "    }\n",
       "\n",
       "    .dataframe thead th {\n",
       "        text-align: right;\n",
       "    }\n",
       "</style>\n",
       "<table border=\"1\" class=\"dataframe\">\n",
       "  <thead>\n",
       "    <tr style=\"text-align: right;\">\n",
       "      <th></th>\n",
       "      <th>CASE_ID</th>\n",
       "      <th>COLLISION_TIME</th>\n",
       "      <th>INTERSECTION</th>\n",
       "      <th>COLLISION_SEVERITY</th>\n",
       "      <th>ROAD_SURFACE</th>\n",
       "      <th>ROAD_COND_1</th>\n",
       "      <th>PEDESTRIAN_ACCIDENT</th>\n",
       "      <th>BICYCLE_ACCIDENT</th>\n",
       "      <th>MOTORCYCLE_ACCIDENT</th>\n",
       "      <th>ALCOHOL_INVOLVED</th>\n",
       "    </tr>\n",
       "  </thead>\n",
       "  <tbody>\n",
       "    <tr>\n",
       "      <th>1085</th>\n",
       "      <td>8744790</td>\n",
       "      <td>7</td>\n",
       "      <td>N</td>\n",
       "      <td>4</td>\n",
       "      <td>A</td>\n",
       "      <td>-</td>\n",
       "      <td>NaN</td>\n",
       "      <td>NaN</td>\n",
       "      <td>NaN</td>\n",
       "      <td>NaN</td>\n",
       "    </tr>\n",
       "    <tr>\n",
       "      <th>1029</th>\n",
       "      <td>8754647</td>\n",
       "      <td>11</td>\n",
       "      <td>Y</td>\n",
       "      <td>3</td>\n",
       "      <td>A</td>\n",
       "      <td>H</td>\n",
       "      <td>NaN</td>\n",
       "      <td>NaN</td>\n",
       "      <td>NaN</td>\n",
       "      <td>NaN</td>\n",
       "    </tr>\n",
       "    <tr>\n",
       "      <th>2805</th>\n",
       "      <td>8594831</td>\n",
       "      <td>20</td>\n",
       "      <td>Y</td>\n",
       "      <td>3</td>\n",
       "      <td>B</td>\n",
       "      <td>H</td>\n",
       "      <td>Y</td>\n",
       "      <td>NaN</td>\n",
       "      <td>NaN</td>\n",
       "      <td>NaN</td>\n",
       "    </tr>\n",
       "    <tr>\n",
       "      <th>1044</th>\n",
       "      <td>8749788</td>\n",
       "      <td>12</td>\n",
       "      <td>N</td>\n",
       "      <td>4</td>\n",
       "      <td>A</td>\n",
       "      <td>H</td>\n",
       "      <td>NaN</td>\n",
       "      <td>NaN</td>\n",
       "      <td>NaN</td>\n",
       "      <td>NaN</td>\n",
       "    </tr>\n",
       "    <tr>\n",
       "      <th>3399</th>\n",
       "      <td>8552748</td>\n",
       "      <td>12</td>\n",
       "      <td>Y</td>\n",
       "      <td>4</td>\n",
       "      <td>A</td>\n",
       "      <td>H</td>\n",
       "      <td>Y</td>\n",
       "      <td>NaN</td>\n",
       "      <td>NaN</td>\n",
       "      <td>NaN</td>\n",
       "    </tr>\n",
       "  </tbody>\n",
       "</table>\n",
       "</div>"
      ],
      "text/plain": [
       "      CASE_ID  COLLISION_TIME INTERSECTION  COLLISION_SEVERITY ROAD_SURFACE  \\\n",
       "1085  8744790               7            N                   4            A   \n",
       "1029  8754647              11            Y                   3            A   \n",
       "2805  8594831              20            Y                   3            B   \n",
       "1044  8749788              12            N                   4            A   \n",
       "3399  8552748              12            Y                   4            A   \n",
       "\n",
       "     ROAD_COND_1 PEDESTRIAN_ACCIDENT BICYCLE_ACCIDENT MOTORCYCLE_ACCIDENT  \\\n",
       "1085           -                 NaN              NaN                 NaN   \n",
       "1029           H                 NaN              NaN                 NaN   \n",
       "2805           H                   Y              NaN                 NaN   \n",
       "1044           H                 NaN              NaN                 NaN   \n",
       "3399           H                   Y              NaN                 NaN   \n",
       "\n",
       "     ALCOHOL_INVOLVED  \n",
       "1085              NaN  \n",
       "1029              NaN  \n",
       "2805              NaN  \n",
       "1044              NaN  \n",
       "3399              NaN  "
      ]
     },
     "execution_count": 4,
     "metadata": {},
     "output_type": "execute_result"
    }
   ],
   "source": [
    "# Convert COLLISION_TIME to hour of day (use tlater to match speeds to collisions)\n",
    "c['COLLISION_TIME'] = [int(i[:-2]) if len(i) > 2 else 0 for i in c['COLLISION_TIME'].astype(str).values]\n",
    "\n",
    "c.sample(5)"
   ]
  },
  {
   "cell_type": "code",
   "execution_count": 5,
   "metadata": {},
   "outputs": [],
   "source": [
    "# recode variables in Collision (as 1s and 0s, reduce categories down, make dummies)\n",
    "\n",
    "# NOTE: ROAD_SURFACE and ROAD_COND_1 had some observations unstated\n",
    "# If not stated, assumed no issues with road surface or con'd\n",
    "\n",
    "# Intersection: Make dummy, intersection/not\n",
    "c.loc[~(c.INTERSECTION == \"Y\"), \"INTERSECTION\"] = 0\n",
    "c.loc[c.INTERSECTION == \"Y\", \"INTERSECTION\"] = 1\n",
    "\n",
    "\n",
    "# Road_Surface: Convert to dummy, wet/not \n",
    "c.loc[~(c.ROAD_SURFACE.isin([\"B\", \"C\", \"D\"])), \"WET_ROAD_SURFACE\"] = 0\n",
    "c.loc[c.ROAD_SURFACE.isin([\"B\", \"C\", \"D\"]), \"WET_ROAD_SURFACE\"] = 1\n",
    "\n",
    "\n",
    "# Road_Cond_1: Convert to dummy, issue/not\n",
    "c.loc[~(c.ROAD_COND_1.isin([\"H\", \"\"])), \"ROAD_COND_ISSUE\"] = 1\n",
    "c.loc[c.ROAD_COND_1.isin([\"H\", \"\"]), \"ROAD_COND_ISSUE\"] = 0"
   ]
  },
  {
   "cell_type": "markdown",
   "metadata": {},
   "source": [
    "Recode some variables"
   ]
  },
  {
   "cell_type": "code",
   "execution_count": 6,
   "metadata": {},
   "outputs": [],
   "source": [
    "# for dummies: recode Y as 1, blank as 0\n",
    "def Yfor1(s):\n",
    "    s = s.replace(\"Y\", 1)\n",
    "    s = s.fillna(0)\n",
    "    return s"
   ]
  },
  {
   "cell_type": "code",
   "execution_count": 7,
   "metadata": {},
   "outputs": [],
   "source": [
    "c[\"PEDESTRIAN_ACCIDENT\"] = Yfor1(c.PEDESTRIAN_ACCIDENT)\n",
    "c[\"BICYCLE_ACCIDENT\"] = Yfor1(c.BICYCLE_ACCIDENT)\n",
    "c[\"MOTORCYCLE_ACCIDENT\"] = Yfor1(c.MOTORCYCLE_ACCIDENT)\n",
    "c[\"ALCOHOL_INVOLVED\"] = Yfor1(c.ALCOHOL_INVOLVED)"
   ]
  },
  {
   "cell_type": "markdown",
   "metadata": {},
   "source": [
    "Make response binary variable from Collision_Severity: 1 for fatality (COLLISION_SEVERITY = 1), 0 for not fatality (COLLISION_SEVERITY != 1)"
   ]
  },
  {
   "cell_type": "code",
   "execution_count": 8,
   "metadata": {},
   "outputs": [],
   "source": [
    "c.loc[c.COLLISION_SEVERITY == 1, \"Fatality\"] = 1\n",
    "c.loc[c.COLLISION_SEVERITY != 1, \"Fatality\"] = 0"
   ]
  },
  {
   "cell_type": "markdown",
   "metadata": {},
   "source": [
    "Drop vars we won't use"
   ]
  },
  {
   "cell_type": "code",
   "execution_count": 9,
   "metadata": {},
   "outputs": [],
   "source": [
    "c = c[['CASE_ID','Fatality', 'COLLISION_TIME','INTERSECTION', 'PEDESTRIAN_ACCIDENT','BICYCLE_ACCIDENT',\n",
    "       'MOTORCYCLE_ACCIDENT','WET_ROAD_SURFACE','ROAD_COND_ISSUE']]"
   ]
  },
  {
   "cell_type": "code",
   "execution_count": 10,
   "metadata": {},
   "outputs": [
    {
     "data": {
      "text/html": [
       "<div>\n",
       "<style scoped>\n",
       "    .dataframe tbody tr th:only-of-type {\n",
       "        vertical-align: middle;\n",
       "    }\n",
       "\n",
       "    .dataframe tbody tr th {\n",
       "        vertical-align: top;\n",
       "    }\n",
       "\n",
       "    .dataframe thead th {\n",
       "        text-align: right;\n",
       "    }\n",
       "</style>\n",
       "<table border=\"1\" class=\"dataframe\">\n",
       "  <thead>\n",
       "    <tr style=\"text-align: right;\">\n",
       "      <th></th>\n",
       "      <th>CASE_ID</th>\n",
       "      <th>Fatality</th>\n",
       "      <th>COLLISION_TIME</th>\n",
       "      <th>INTERSECTION</th>\n",
       "      <th>PEDESTRIAN_ACCIDENT</th>\n",
       "      <th>BICYCLE_ACCIDENT</th>\n",
       "      <th>MOTORCYCLE_ACCIDENT</th>\n",
       "      <th>WET_ROAD_SURFACE</th>\n",
       "      <th>ROAD_COND_ISSUE</th>\n",
       "    </tr>\n",
       "  </thead>\n",
       "  <tbody>\n",
       "    <tr>\n",
       "      <th>368</th>\n",
       "      <td>8777315</td>\n",
       "      <td>0.0</td>\n",
       "      <td>23</td>\n",
       "      <td>1</td>\n",
       "      <td>0.0</td>\n",
       "      <td>0.0</td>\n",
       "      <td>0.0</td>\n",
       "      <td>0.0</td>\n",
       "      <td>0.0</td>\n",
       "    </tr>\n",
       "    <tr>\n",
       "      <th>1616</th>\n",
       "      <td>8692663</td>\n",
       "      <td>0.0</td>\n",
       "      <td>8</td>\n",
       "      <td>0</td>\n",
       "      <td>0.0</td>\n",
       "      <td>0.0</td>\n",
       "      <td>0.0</td>\n",
       "      <td>0.0</td>\n",
       "      <td>0.0</td>\n",
       "    </tr>\n",
       "    <tr>\n",
       "      <th>3180</th>\n",
       "      <td>8557541</td>\n",
       "      <td>0.0</td>\n",
       "      <td>20</td>\n",
       "      <td>1</td>\n",
       "      <td>0.0</td>\n",
       "      <td>0.0</td>\n",
       "      <td>1.0</td>\n",
       "      <td>0.0</td>\n",
       "      <td>0.0</td>\n",
       "    </tr>\n",
       "    <tr>\n",
       "      <th>1692</th>\n",
       "      <td>8685863</td>\n",
       "      <td>0.0</td>\n",
       "      <td>13</td>\n",
       "      <td>0</td>\n",
       "      <td>0.0</td>\n",
       "      <td>1.0</td>\n",
       "      <td>0.0</td>\n",
       "      <td>0.0</td>\n",
       "      <td>0.0</td>\n",
       "    </tr>\n",
       "    <tr>\n",
       "      <th>704</th>\n",
       "      <td>8758186</td>\n",
       "      <td>0.0</td>\n",
       "      <td>14</td>\n",
       "      <td>0</td>\n",
       "      <td>0.0</td>\n",
       "      <td>0.0</td>\n",
       "      <td>0.0</td>\n",
       "      <td>0.0</td>\n",
       "      <td>0.0</td>\n",
       "    </tr>\n",
       "  </tbody>\n",
       "</table>\n",
       "</div>"
      ],
      "text/plain": [
       "      CASE_ID  Fatality  COLLISION_TIME  INTERSECTION  PEDESTRIAN_ACCIDENT  \\\n",
       "368   8777315       0.0              23             1                  0.0   \n",
       "1616  8692663       0.0               8             0                  0.0   \n",
       "3180  8557541       0.0              20             1                  0.0   \n",
       "1692  8685863       0.0              13             0                  0.0   \n",
       "704   8758186       0.0              14             0                  0.0   \n",
       "\n",
       "      BICYCLE_ACCIDENT  MOTORCYCLE_ACCIDENT  WET_ROAD_SURFACE  ROAD_COND_ISSUE  \n",
       "368                0.0                  0.0               0.0              0.0  \n",
       "1616               0.0                  0.0               0.0              0.0  \n",
       "3180               0.0                  1.0               0.0              0.0  \n",
       "1692               1.0                  0.0               0.0              0.0  \n",
       "704                0.0                  0.0               0.0              0.0  "
      ]
     },
     "execution_count": 10,
     "metadata": {},
     "output_type": "execute_result"
    }
   ],
   "source": [
    "c.sample(5)"
   ]
  },
  {
   "cell_type": "markdown",
   "metadata": {},
   "source": [
    "## Exploratory Data Analysis"
   ]
  },
  {
   "cell_type": "code",
   "execution_count": 11,
   "metadata": {},
   "outputs": [
    {
     "name": "stdout",
     "output_type": "stream",
     "text": [
      "0.0    3846\n",
      "1.0      24\n",
      "Name: Fatality, dtype: int64\n"
     ]
    },
    {
     "data": {
      "text/plain": [
       "<matplotlib.axes._subplots.AxesSubplot at 0x1c1dba7940>"
      ]
     },
     "execution_count": 11,
     "metadata": {},
     "output_type": "execute_result"
    },
    {
     "data": {
      "image/png": "[encoded data removed]",
      "text/plain": [
       "<Figure size 432x288 with 1 Axes>"
      ]
     },
     "metadata": {
      "needs_background": "light"
     },
     "output_type": "display_data"
    }
   ],
   "source": [
    "# value counts of response variable\n",
    "print(c[\"Fatality\"].value_counts())\n",
    "\n",
    "c[\"Fatality\"].value_counts().plot(kind='bar')"
   ]
  },
  {
   "cell_type": "markdown",
   "metadata": {},
   "source": [
    "There are way more Fatality == 1 observations than Fatality == 0 observations. \n",
    "\n",
    "In making side-by-side bar plots of value counts of predictors' values when response == 1 and response == 0, let's only show plots with response = Fatality == 1, since otherwise, the overwhelming size of observations with Fatality == 0 would overwhelm the size of bars with Fatality == 0."
   ]
  },
  {
   "cell_type": "code",
   "execution_count": 13,
   "metadata": {},
   "outputs": [
    {
     "data": {
      "text/plain": [
       "['COLLISION_TIME',\n",
       " 'INTERSECTION',\n",
       " 'PEDESTRIAN_ACCIDENT',\n",
       " 'BICYCLE_ACCIDENT',\n",
       " 'MOTORCYCLE_ACCIDENT',\n",
       " 'WET_ROAD_SURFACE',\n",
       " 'ROAD_COND_ISSUE']"
      ]
     },
     "execution_count": 13,
     "metadata": {},
     "output_type": "execute_result"
    }
   ],
   "source": [
    "# get list of all possible predictors\n",
    "pred_col = [col for col in c.columns if col != \"CASE_ID\" and col != \"Fatality\"]\n",
    "pred_col"
   ]
  },
  {
   "cell_type": "code",
   "execution_count": 14,
   "metadata": {},
   "outputs": [
    {
     "data": {
      "text/plain": [
       "Text(0.5, 0.98, 'Value counts for predictors when Fatality = 1')"
      ]
     },
     "execution_count": 14,
     "metadata": {},
     "output_type": "execute_result"
    },
    {
     "data": {
      "image/png": "[encoded data removed]",
      "text/plain": [
       "<Figure size 432x288 with 7 Axes>"
      ]
     },
     "metadata": {
      "needs_background": "light"
     },
     "output_type": "display_data"
    }
   ],
   "source": [
    "fig = plt.figure()\n",
    "fig.subplots_adjust(hspace=1, wspace=0.5)\n",
    "for i, col in enumerate(pred_col, start = 1):\n",
    "    plt.subplot(3, 3, i)\n",
    "    cfp = c[[\"Fatality\", col, \"CASE_ID\"]].groupby([\"Fatality\", col]).count().reset_index()\n",
    "    cfp.loc[cfp.Fatality == 1][\"CASE_ID\"].plot(kind='bar')\n",
    "    if col!=\"COLLISION_TIME\":\n",
    "        plt.xticks(np.arange(0,2), (0, 1))\n",
    "    plt.xlabel(col)\n",
    "fig.suptitle(\"Value counts for predictors when Fatality = 1\")\n",
    "    \n",
    "# these are value counts for each predictor when Fatality = 1"
   ]
  },
  {
   "cell_type": "code",
   "execution_count": 15,
   "metadata": {},
   "outputs": [
    {
     "data": {
      "text/plain": [
       "Text(0.5, 0.98, 'Value counts for predictors when Fatality = 0')"
      ]
     },
     "execution_count": 15,
     "metadata": {},
     "output_type": "execute_result"
    },
    {
     "data": {
      "image/png": "[encoded data removed]",
      "text/plain": [
       "<Figure size 432x288 with 7 Axes>"
      ]
     },
     "metadata": {
      "needs_background": "light"
     },
     "output_type": "display_data"
    }
   ],
   "source": [
    "fig = plt.figure()\n",
    "fig.subplots_adjust(hspace=1, wspace=0.5)\n",
    "for i, col in enumerate(pred_col, start = 1):\n",
    "    plt.subplot(3, 3, i)\n",
    "    cfp = c[[\"Fatality\", col, \"CASE_ID\"]].groupby([\"Fatality\", col]).count().reset_index()\n",
    "    cfp.loc[cfp.Fatality == 1][\"CASE_ID\"].plot(kind='bar')\n",
    "    if col!=\"COLLISION_TIME\":\n",
    "        plt.xticks(np.arange(0,2), (0, 1))\n",
    "    plt.xlabel(col)\n",
    "fig.suptitle(\"Value counts for predictors when Fatality = 0\")\n",
    "    \n",
    "# these are value counts for each predictor when Fatality = 0"
   ]
  },
  {
   "cell_type": "code",
   "execution_count": 16,
   "metadata": {},
   "outputs": [
    {
     "name": "stdout",
     "output_type": "stream",
     "text": [
      "COLLISION_TIME\n",
      "    Fatality  COLLISION_TIME  CASE_ID\n",
      "0        0.0               0       68\n",
      "1        0.0               1       69\n",
      "2        0.0               2       71\n",
      "3        0.0               3       36\n",
      "4        0.0               4       47\n",
      "5        0.0               5       38\n",
      "6        0.0               6       81\n",
      "7        0.0               7      156\n",
      "8        0.0               8      237\n",
      "9        0.0               9      195\n",
      "10       0.0              10      175\n",
      "11       0.0              11      200\n",
      "12       0.0              12      190\n",
      "13       0.0              13      202\n",
      "14       0.0              14      246\n",
      "15       0.0              15      259\n",
      "16       0.0              16      245\n",
      "17       0.0              17      303\n",
      "18       0.0              18      256\n",
      "19       0.0              19      188\n",
      "20       0.0              20      167\n",
      "21       0.0              21      158\n",
      "22       0.0              22      133\n",
      "23       0.0              23      124\n",
      "24       0.0              25        2\n",
      "25       1.0               1        1\n",
      "26       1.0               5        3\n",
      "27       1.0               6        1\n",
      "28       1.0               9        1\n",
      "29       1.0              10        2\n",
      "30       1.0              11        1\n",
      "31       1.0              12        3\n",
      "32       1.0              13        1\n",
      "33       1.0              14        2\n",
      "34       1.0              15        1\n",
      "35       1.0              17        1\n",
      "36       1.0              18        1\n",
      "37       1.0              19        1\n",
      "38       1.0              21        2\n",
      "39       1.0              22        1\n",
      "40       1.0              23        2\n",
      "\n",
      "\n",
      "INTERSECTION\n",
      "   Fatality  INTERSECTION  CASE_ID\n",
      "0       0.0             0     1949\n",
      "1       0.0             1     1897\n",
      "2       1.0             0       19\n",
      "3       1.0             1        5\n",
      "\n",
      "\n",
      "PEDESTRIAN_ACCIDENT\n",
      "   Fatality  PEDESTRIAN_ACCIDENT  CASE_ID\n",
      "0       0.0                  0.0     3018\n",
      "1       0.0                  1.0      828\n",
      "2       1.0                  0.0       11\n",
      "3       1.0                  1.0       13\n",
      "\n",
      "\n",
      "BICYCLE_ACCIDENT\n",
      "   Fatality  BICYCLE_ACCIDENT  CASE_ID\n",
      "0       0.0               0.0     3262\n",
      "1       0.0               1.0      584\n",
      "2       1.0               0.0       21\n",
      "3       1.0               1.0        3\n",
      "\n",
      "\n",
      "MOTORCYCLE_ACCIDENT\n",
      "   Fatality  MOTORCYCLE_ACCIDENT  CASE_ID\n",
      "0       0.0                  0.0     3368\n",
      "1       0.0                  1.0      478\n",
      "2       1.0                  0.0       20\n",
      "3       1.0                  1.0        4\n",
      "\n",
      "\n",
      "WET_ROAD_SURFACE\n",
      "   Fatality  WET_ROAD_SURFACE  CASE_ID\n",
      "0       0.0               0.0     3452\n",
      "1       0.0               1.0      394\n",
      "2       1.0               0.0       21\n",
      "3       1.0               1.0        3\n",
      "\n",
      "\n",
      "ROAD_COND_ISSUE\n",
      "   Fatality  ROAD_COND_ISSUE  CASE_ID\n",
      "0       0.0              0.0     3618\n",
      "1       0.0              1.0      228\n",
      "2       1.0              0.0       20\n",
      "3       1.0              1.0        4\n",
      "\n",
      "\n"
     ]
    }
   ],
   "source": [
    "# print out value counts (values of the bar figures above)\n",
    "for i, col in enumerate(pred_col, start = 1):\n",
    "    cfp = c[[\"Fatality\", col, \"CASE_ID\"]].groupby([\"Fatality\", col]).count().reset_index()\n",
    "    print(col)\n",
    "    print(cfp)\n",
    "    print(\"\\n\")"
   ]
  },
  {
   "cell_type": "markdown",
   "metadata": {},
   "source": [
    "Based on this data exploration, it looks like PEDESTRIAN_ACCIDENT may be a promising predictor: Given Fatality == 1, there are more observations with PEDESTRIAN_ACCIDENT == 1 than observations with PEDESTRIAN_ACCIDENT == 0.\n",
    "\n",
    "It is unclear from initial exploration which other variables might be important predictors."
   ]
  },
  {
   "cell_type": "markdown",
   "metadata": {},
   "source": [
    "## Model Selection "
   ]
  },
  {
   "cell_type": "code",
   "execution_count": 17,
   "metadata": {},
   "outputs": [],
   "source": [
    "def forward_selected(data, response, aic_or_bic):\n",
    "    \"\"\"Logistic model designed by forward selection.\n",
    "\n",
    "    Parameters:\n",
    "    -----------\n",
    "    data : pandas DataFrame with all possible predictors and response\n",
    "\n",
    "    response: string, name of response column in data\n",
    "\n",
    "    Returns:\n",
    "    --------\n",
    "    model: an \"optimal\" fitted statsmodels linear model\n",
    "           with an intercept\n",
    "           selected by forward selection\n",
    "           evaluated by AIC or BIC\n",
    "    \"\"\"\n",
    "    remaining = set(data.columns) \n",
    "    remaining.remove(response)\n",
    "    selected = []\n",
    "    current_score, best_new_score = 9999, 9999  # set starting point scores really high: want low AIC\n",
    "    \n",
    "    while remaining and current_score == best_new_score:\n",
    "        scores_with_candidates = []\n",
    "        # regress response ~ prior selected predictors + each remaining predictor individually\n",
    "        for candidate in remaining:\n",
    "            formula = \"{} ~ {} + 1\".format(response,\n",
    "                                           ' + '.join(selected + [candidate]))\n",
    "            # do aic or bic score, depending on if you specified aic or bic in args\n",
    "            if aic_or_bic == \"AIC\":\n",
    "                score = smf.glm(formula=formula, data=data, family=sm.families.Binomial()).fit().aic \n",
    "            elif aic_or_bic == \"BIC\":\n",
    "                score = smf.glm(formula=formula, data=data, family=sm.families.Binomial()).fit().bic\n",
    "            else:\n",
    "                raise ValueError(\"Did not specify aic_or_bic = 'AIC' or 'BIC' in args\")\n",
    "            scores_with_candidates.append((score, candidate))\n",
    "        scores_with_candidates.sort(reverse=True)\n",
    "        best_new_score, best_candidate = scores_with_candidates.pop()\n",
    "        if current_score > best_new_score:\n",
    "            remaining.remove(best_candidate)\n",
    "            selected.append(best_candidate)\n",
    "            current_score = best_new_score\n",
    "    \n",
    "    # final selected model from stepwise selection\n",
    "    formula = \"{} ~ {} + 1\".format(response,' + '.join(selected))\n",
    "    model = smf.glm(formula=formula, data=data, family=sm.families.Binomial()).fit()\n",
    "    return model"
   ]
  },
  {
   "cell_type": "markdown",
   "metadata": {},
   "source": [
    "Model chosen by best AIC:"
   ]
  },
  {
   "cell_type": "code",
   "execution_count": 31,
   "metadata": {},
   "outputs": [],
   "source": [
    "model1 = forward_selected(c,'Fatality', \"AIC\")"
   ]
  },
  {
   "cell_type": "code",
   "execution_count": 32,
   "metadata": {},
   "outputs": [
    {
     "data": {
      "text/html": [
       "<table class=\"simpletable\">\n",
       "<caption>Generalized Linear Model Regression Results</caption>\n",
       "<tr>\n",
       "  <th>Dep. Variable:</th>      <td>Fatality</td>     <th>  No. Observations:  </th>  <td>  3870</td>  \n",
       "</tr>\n",
       "<tr>\n",
       "  <th>Model:</th>                 <td>GLM</td>       <th>  Df Residuals:      </th>  <td>  3866</td>  \n",
       "</tr>\n",
       "<tr>\n",
       "  <th>Model Family:</th>       <td>Binomial</td>     <th>  Df Model:          </th>  <td>     3</td>  \n",
       "</tr>\n",
       "<tr>\n",
       "  <th>Link Function:</th>        <td>logit</td>      <th>  Scale:             </th> <td>  1.0000</td> \n",
       "</tr>\n",
       "<tr>\n",
       "  <th>Method:</th>               <td>IRLS</td>       <th>  Log-Likelihood:    </th> <td> -132.35</td> \n",
       "</tr>\n",
       "<tr>\n",
       "  <th>Date:</th>           <td>Sat, 12 Oct 2019</td> <th>  Deviance:          </th> <td>  264.71</td> \n",
       "</tr>\n",
       "<tr>\n",
       "  <th>Time:</th>               <td>18:19:16</td>     <th>  Pearson chi2:      </th> <td>3.12e+03</td> \n",
       "</tr>\n",
       "<tr>\n",
       "  <th>No. Iterations:</th>         <td>9</td>        <th>  Covariance Type:   </th> <td>nonrobust</td>\n",
       "</tr>\n",
       "</table>\n",
       "<table class=\"simpletable\">\n",
       "<tr>\n",
       "           <td></td>              <th>coef</th>     <th>std err</th>      <th>z</th>      <th>P>|z|</th>  <th>[0.025</th>    <th>0.975]</th>  \n",
       "</tr>\n",
       "<tr>\n",
       "  <th>Intercept</th>           <td>   -5.2741</td> <td>    0.323</td> <td>  -16.312</td> <td> 0.000</td> <td>   -5.908</td> <td>   -4.640</td>\n",
       "</tr>\n",
       "<tr>\n",
       "  <th>PEDESTRIAN_ACCIDENT</th> <td>    1.6459</td> <td>    0.416</td> <td>    3.956</td> <td> 0.000</td> <td>    0.830</td> <td>    2.461</td>\n",
       "</tr>\n",
       "<tr>\n",
       "  <th>INTERSECTION</th>        <td>   -1.5631</td> <td>    0.509</td> <td>   -3.072</td> <td> 0.002</td> <td>   -2.560</td> <td>   -0.566</td>\n",
       "</tr>\n",
       "<tr>\n",
       "  <th>ROAD_COND_ISSUE</th>     <td>    1.2175</td> <td>    0.560</td> <td>    2.176</td> <td> 0.030</td> <td>    0.121</td> <td>    2.314</td>\n",
       "</tr>\n",
       "</table>"
      ],
      "text/plain": [
       "<class 'statsmodels.iolib.summary.Summary'>\n",
       "\"\"\"\n",
       "                 Generalized Linear Model Regression Results                  \n",
       "==============================================================================\n",
       "Dep. Variable:               Fatality   No. Observations:                 3870\n",
       "Model:                            GLM   Df Residuals:                     3866\n",
       "Model Family:                Binomial   Df Model:                            3\n",
       "Link Function:                  logit   Scale:                          1.0000\n",
       "Method:                          IRLS   Log-Likelihood:                -132.35\n",
       "Date:                Sat, 12 Oct 2019   Deviance:                       264.71\n",
       "Time:                        18:19:16   Pearson chi2:                 3.12e+03\n",
       "No. Iterations:                     9   Covariance Type:             nonrobust\n",
       "=======================================================================================\n",
       "                          coef    std err          z      P>|z|      [0.025      0.975]\n",
       "---------------------------------------------------------------------------------------\n",
       "Intercept              -5.2741      0.323    -16.312      0.000      -5.908      -4.640\n",
       "PEDESTRIAN_ACCIDENT     1.6459      0.416      3.956      0.000       0.830       2.461\n",
       "INTERSECTION           -1.5631      0.509     -3.072      0.002      -2.560      -0.566\n",
       "ROAD_COND_ISSUE         1.2175      0.560      2.176      0.030       0.121       2.314\n",
       "=======================================================================================\n",
       "\"\"\""
      ]
     },
     "execution_count": 32,
     "metadata": {},
     "output_type": "execute_result"
    }
   ],
   "source": [
    "model1.summary()"
   ]
  },
  {
   "cell_type": "markdown",
   "metadata": {},
   "source": [
    "Model selected by best BIC:"
   ]
  },
  {
   "cell_type": "code",
   "execution_count": 33,
   "metadata": {},
   "outputs": [],
   "source": [
    "model2 = forward_selected(c,'Fatality', \"BIC\")"
   ]
  },
  {
   "cell_type": "code",
   "execution_count": 35,
   "metadata": {},
   "outputs": [
    {
     "data": {
      "text/html": [
       "<table class=\"simpletable\">\n",
       "<caption>Generalized Linear Model Regression Results</caption>\n",
       "<tr>\n",
       "  <th>Dep. Variable:</th>      <td>Fatality</td>     <th>  No. Observations:  </th>  <td>  3870</td>  \n",
       "</tr>\n",
       "<tr>\n",
       "  <th>Model:</th>                 <td>GLM</td>       <th>  Df Residuals:      </th>  <td>  3867</td>  \n",
       "</tr>\n",
       "<tr>\n",
       "  <th>Model Family:</th>       <td>Binomial</td>     <th>  Df Model:          </th>  <td>     2</td>  \n",
       "</tr>\n",
       "<tr>\n",
       "  <th>Link Function:</th>        <td>logit</td>      <th>  Scale:             </th> <td>  1.0000</td> \n",
       "</tr>\n",
       "<tr>\n",
       "  <th>Method:</th>               <td>IRLS</td>       <th>  Log-Likelihood:    </th> <td> -134.18</td> \n",
       "</tr>\n",
       "<tr>\n",
       "  <th>Date:</th>           <td>Sat, 12 Oct 2019</td> <th>  Deviance:          </th> <td>  268.37</td> \n",
       "</tr>\n",
       "<tr>\n",
       "  <th>Time:</th>               <td>18:19:35</td>     <th>  Pearson chi2:      </th> <td>3.50e+03</td> \n",
       "</tr>\n",
       "<tr>\n",
       "  <th>No. Iterations:</th>         <td>9</td>        <th>  Covariance Type:   </th> <td>nonrobust</td>\n",
       "</tr>\n",
       "</table>\n",
       "<table class=\"simpletable\">\n",
       "<tr>\n",
       "           <td></td>              <th>coef</th>     <th>std err</th>      <th>z</th>      <th>P>|z|</th>  <th>[0.025</th>    <th>0.975]</th>  \n",
       "</tr>\n",
       "<tr>\n",
       "  <th>Intercept</th>           <td>   -5.1657</td> <td>    0.312</td> <td>  -16.532</td> <td> 0.000</td> <td>   -5.778</td> <td>   -4.553</td>\n",
       "</tr>\n",
       "<tr>\n",
       "  <th>PEDESTRIAN_ACCIDENT</th> <td>    1.6662</td> <td>    0.416</td> <td>    4.008</td> <td> 0.000</td> <td>    0.851</td> <td>    2.481</td>\n",
       "</tr>\n",
       "<tr>\n",
       "  <th>INTERSECTION</th>        <td>   -1.5367</td> <td>    0.508</td> <td>   -3.022</td> <td> 0.003</td> <td>   -2.533</td> <td>   -0.540</td>\n",
       "</tr>\n",
       "</table>"
      ],
      "text/plain": [
       "<class 'statsmodels.iolib.summary.Summary'>\n",
       "\"\"\"\n",
       "                 Generalized Linear Model Regression Results                  \n",
       "==============================================================================\n",
       "Dep. Variable:               Fatality   No. Observations:                 3870\n",
       "Model:                            GLM   Df Residuals:                     3867\n",
       "Model Family:                Binomial   Df Model:                            2\n",
       "Link Function:                  logit   Scale:                          1.0000\n",
       "Method:                          IRLS   Log-Likelihood:                -134.18\n",
       "Date:                Sat, 12 Oct 2019   Deviance:                       268.37\n",
       "Time:                        18:19:35   Pearson chi2:                 3.50e+03\n",
       "No. Iterations:                     9   Covariance Type:             nonrobust\n",
       "=======================================================================================\n",
       "                          coef    std err          z      P>|z|      [0.025      0.975]\n",
       "---------------------------------------------------------------------------------------\n",
       "Intercept              -5.1657      0.312    -16.532      0.000      -5.778      -4.553\n",
       "PEDESTRIAN_ACCIDENT     1.6662      0.416      4.008      0.000       0.851       2.481\n",
       "INTERSECTION           -1.5367      0.508     -3.022      0.003      -2.533      -0.540\n",
       "=======================================================================================\n",
       "\"\"\""
      ]
     },
     "execution_count": 35,
     "metadata": {},
     "output_type": "execute_result"
    }
   ],
   "source": [
    "model2.summary()"
   ]
  },
  {
   "cell_type": "markdown",
   "metadata": {},
   "source": [
    "AIC chose model1 = Fatality ~ PEDESTRIAN_ACCIDENT + INTERSECTION + ROAD_COND_ISSUE\n",
    "\n",
    "BIC chose model2 = Fatality ~ PEDESTRIAN_ACCIDENT + INTERSECTION \n",
    "\n",
    "(makes sense: AIC and BIC work similarly but BIC penalizes model complexity/number of predictors more)\n",
    "\n",
    "In this model selection, AIC selected a model with a subset of predictors of BIC's model. Let BIC-selected model = model2 = full model, and AIC-selected model = model1 = reduced model going forward."
   ]
  },
  {
   "cell_type": "markdown",
   "metadata": {},
   "source": [
    "**Wald test:** \n",
    "<br>Check p-values in regression summary. For both full and reduced models, all predictors are significant by Wald test (p-values < alpha = 0.05)"
   ]
  },
  {
   "cell_type": "markdown",
   "metadata": {},
   "source": [
    "**Deviance test:** \n",
    "<br>Let's check whether we should do reduced model or full model.\n",
    "\n",
    "H0: Reduced model \n",
    "<br>Ha: Full model\n",
    "<br>$\\Delta G^{2}$ = $G^{2}$(reduced model) − $G^{2}$(full model)\n",
    "\n",
    "Compare against $\\chi^{2}$($\\alpha$ = 0.05, df = $p_{full}$ - $p_{reduced}$ = 3-2 = 1)"
   ]
  },
  {
   "cell_type": "code",
   "execution_count": 36,
   "metadata": {},
   "outputs": [
    {
     "data": {
      "text/plain": [
       "3.6576426516627976"
      ]
     },
     "execution_count": 36,
     "metadata": {},
     "output_type": "execute_result"
    }
   ],
   "source": [
    "delta_G2 = model2.deviance - model1.deviance\n",
    "delta_G2"
   ]
  },
  {
   "cell_type": "markdown",
   "metadata": {},
   "source": []
  },
  {
   "cell_type": "code",
   "execution_count": 37,
   "metadata": {},
   "outputs": [
    {
     "data": {
      "text/plain": [
       "3.8414588206941285"
      ]
     },
     "execution_count": 37,
     "metadata": {},
     "output_type": "execute_result"
    }
   ],
   "source": [
    "chi2.isf(0.05, 1)"
   ]
  },
  {
   "cell_type": "markdown",
   "metadata": {},
   "source": [
    "$\\Delta G^{2}$ < $\\chi^{2}$($\\alpha$ = 0.05, df = 1): Fail to reject H0. \n",
    "<br>Thus, keep reduced model: model1 = Fatality ~ PEDESTRIAN_ACCIDENT + INTERSECTION"
   ]
  },
  {
   "cell_type": "markdown",
   "metadata": {},
   "source": [
    "### Model selected: Fatality ~ PEDESTRIAN_ACCIDENT + INTERSECTION"
   ]
  },
  {
   "cell_type": "markdown",
   "metadata": {},
   "source": [
    "# Model Diagnosis"
   ]
  },
  {
   "cell_type": "markdown",
   "metadata": {},
   "source": [
    "### Check for influential points "
   ]
  },
  {
   "cell_type": "markdown",
   "metadata": {},
   "source": [
    "Get Pearson residuals from GLM results; make residual plot"
   ]
  },
  {
   "cell_type": "code",
   "execution_count": 70,
   "metadata": {},
   "outputs": [
    {
     "data": {
      "image/png": "[encoded data removed]",
      "text/plain": [
       "<Figure size 432x288 with 1 Axes>"
      ]
     },
     "metadata": {
      "needs_background": "light"
     },
     "output_type": "display_data"
    }
   ],
   "source": [
    "plt.scatter(model2.fittedvalues, model2.resid_pearson)\n",
    "plt.xlabel(\"Fitted values\")\n",
    "plt.ylabel(\"Pearson residuals\")\n",
    "plt.show()"
   ]
  },
  {
   "cell_type": "markdown",
   "metadata": {},
   "source": [
    "We expect residuals to largely sit in a band"
   ]
  },
  {
   "cell_type": "markdown",
   "metadata": {},
   "source": [
    "Get hat matrix diagonals to detect points of high leverage"
   ]
  },
  {
   "cell_type": "code",
   "execution_count": 71,
   "metadata": {},
   "outputs": [],
   "source": [
    "# need to run GLM to get_influence()\n",
    "formula = \"Fatality ~ PEDESTRIAN_ACCIDENT + INTERSECTION\"\n",
    "\n",
    "y, X = patsy.dmatrices(formula, data = c)"
   ]
  },
  {
   "cell_type": "code",
   "execution_count": 82,
   "metadata": {},
   "outputs": [
    {
     "data": {
      "text/html": [
       "<table class=\"simpletable\">\n",
       "<caption>Generalized Linear Model Regression Results</caption>\n",
       "<tr>\n",
       "  <th>Dep. Variable:</th>      <td>Fatality</td>     <th>  No. Observations:  </th>  <td>  3870</td>  \n",
       "</tr>\n",
       "<tr>\n",
       "  <th>Model:</th>                 <td>GLM</td>       <th>  Df Residuals:      </th>  <td>  3867</td>  \n",
       "</tr>\n",
       "<tr>\n",
       "  <th>Model Family:</th>       <td>Binomial</td>     <th>  Df Model:          </th>  <td>     2</td>  \n",
       "</tr>\n",
       "<tr>\n",
       "  <th>Link Function:</th>        <td>logit</td>      <th>  Scale:             </th> <td>  1.0000</td> \n",
       "</tr>\n",
       "<tr>\n",
       "  <th>Method:</th>               <td>IRLS</td>       <th>  Log-Likelihood:    </th> <td> -134.18</td> \n",
       "</tr>\n",
       "<tr>\n",
       "  <th>Date:</th>           <td>Sat, 12 Oct 2019</td> <th>  Deviance:          </th> <td>  268.37</td> \n",
       "</tr>\n",
       "<tr>\n",
       "  <th>Time:</th>               <td>20:15:57</td>     <th>  Pearson chi2:      </th> <td>3.50e+03</td> \n",
       "</tr>\n",
       "<tr>\n",
       "  <th>No. Iterations:</th>         <td>9</td>        <th>  Covariance Type:   </th> <td>nonrobust</td>\n",
       "</tr>\n",
       "</table>\n",
       "<table class=\"simpletable\">\n",
       "<tr>\n",
       "           <td></td>              <th>coef</th>     <th>std err</th>      <th>z</th>      <th>P>|z|</th>  <th>[0.025</th>    <th>0.975]</th>  \n",
       "</tr>\n",
       "<tr>\n",
       "  <th>Intercept</th>           <td>   -5.1657</td> <td>    0.312</td> <td>  -16.532</td> <td> 0.000</td> <td>   -5.778</td> <td>   -4.553</td>\n",
       "</tr>\n",
       "<tr>\n",
       "  <th>PEDESTRIAN_ACCIDENT</th> <td>    1.6662</td> <td>    0.416</td> <td>    4.008</td> <td> 0.000</td> <td>    0.851</td> <td>    2.481</td>\n",
       "</tr>\n",
       "<tr>\n",
       "  <th>INTERSECTION</th>        <td>   -1.5367</td> <td>    0.508</td> <td>   -3.022</td> <td> 0.003</td> <td>   -2.533</td> <td>   -0.540</td>\n",
       "</tr>\n",
       "</table>"
      ],
      "text/plain": [
       "<class 'statsmodels.iolib.summary.Summary'>\n",
       "\"\"\"\n",
       "                 Generalized Linear Model Regression Results                  \n",
       "==============================================================================\n",
       "Dep. Variable:               Fatality   No. Observations:                 3870\n",
       "Model:                            GLM   Df Residuals:                     3867\n",
       "Model Family:                Binomial   Df Model:                            2\n",
       "Link Function:                  logit   Scale:                          1.0000\n",
       "Method:                          IRLS   Log-Likelihood:                -134.18\n",
       "Date:                Sat, 12 Oct 2019   Deviance:                       268.37\n",
       "Time:                        20:15:57   Pearson chi2:                 3.50e+03\n",
       "No. Iterations:                     9   Covariance Type:             nonrobust\n",
       "=======================================================================================\n",
       "                          coef    std err          z      P>|z|      [0.025      0.975]\n",
       "---------------------------------------------------------------------------------------\n",
       "Intercept              -5.1657      0.312    -16.532      0.000      -5.778      -4.553\n",
       "PEDESTRIAN_ACCIDENT     1.6662      0.416      4.008      0.000       0.851       2.481\n",
       "INTERSECTION           -1.5367      0.508     -3.022      0.003      -2.533      -0.540\n",
       "=======================================================================================\n",
       "\"\"\""
      ]
     },
     "execution_count": 82,
     "metadata": {},
     "output_type": "execute_result"
    }
   ],
   "source": [
    "model1_GLM = sm.GLM(y, X,\n",
    "        data=c, family=sm.families.Binomial()).fit()\n",
    "model1_GLM.summary()"
   ]
  },
  {
   "cell_type": "code",
   "execution_count": 85,
   "metadata": {},
   "outputs": [
    {
     "ename": "AttributeError",
     "evalue": "'GLMResults' object has no attribute 'get_influence'",
     "output_type": "error",
     "traceback": [
      "\u001b[0;31m---------------------------------------------------------------------------\u001b[0m",
      "\u001b[0;31mAttributeError\u001b[0m                            Traceback (most recent call last)",
      "\u001b[0;32m<ipython-input-85-4adb75751ce0>\u001b[0m in \u001b[0;36m<module>\u001b[0;34m\u001b[0m\n\u001b[0;32m----> 1\u001b[0;31m \u001b[0mmodel1_GLM\u001b[0m\u001b[0;34m.\u001b[0m\u001b[0mget_influence\u001b[0m\u001b[0;34m(\u001b[0m\u001b[0;34m)\u001b[0m\u001b[0;34m.\u001b[0m\u001b[0mhat_matrix_diag\u001b[0m\u001b[0;34m\u001b[0m\u001b[0;34m\u001b[0m\u001b[0m\n\u001b[0m",
      "\u001b[0;32m/anaconda3/lib/python3.7/site-packages/statsmodels/base/wrapper.py\u001b[0m in \u001b[0;36m__getattribute__\u001b[0;34m(self, attr)\u001b[0m\n\u001b[1;32m     33\u001b[0m             \u001b[0;32mpass\u001b[0m\u001b[0;34m\u001b[0m\u001b[0;34m\u001b[0m\u001b[0m\n\u001b[1;32m     34\u001b[0m \u001b[0;34m\u001b[0m\u001b[0m\n\u001b[0;32m---> 35\u001b[0;31m         \u001b[0mobj\u001b[0m \u001b[0;34m=\u001b[0m \u001b[0mgetattr\u001b[0m\u001b[0;34m(\u001b[0m\u001b[0mresults\u001b[0m\u001b[0;34m,\u001b[0m \u001b[0mattr\u001b[0m\u001b[0;34m)\u001b[0m\u001b[0;34m\u001b[0m\u001b[0;34m\u001b[0m\u001b[0m\n\u001b[0m\u001b[1;32m     36\u001b[0m         \u001b[0mdata\u001b[0m \u001b[0;34m=\u001b[0m \u001b[0mresults\u001b[0m\u001b[0;34m.\u001b[0m\u001b[0mmodel\u001b[0m\u001b[0;34m.\u001b[0m\u001b[0mdata\u001b[0m\u001b[0;34m\u001b[0m\u001b[0;34m\u001b[0m\u001b[0m\n\u001b[1;32m     37\u001b[0m         \u001b[0mhow\u001b[0m \u001b[0;34m=\u001b[0m \u001b[0mself\u001b[0m\u001b[0;34m.\u001b[0m\u001b[0m_wrap_attrs\u001b[0m\u001b[0;34m.\u001b[0m\u001b[0mget\u001b[0m\u001b[0;34m(\u001b[0m\u001b[0mattr\u001b[0m\u001b[0;34m)\u001b[0m\u001b[0;34m\u001b[0m\u001b[0;34m\u001b[0m\u001b[0m\n",
      "\u001b[0;31mAttributeError\u001b[0m: 'GLMResults' object has no attribute 'get_influence'"
     ]
    }
   ],
   "source": [
    "model1_GLM.get_influence().hat_matrix_diag"
   ]
  },
  {
   "cell_type": "code",
   "execution_count": null,
   "metadata": {},
   "outputs": [],
   "source": []
  }
 ],
 "metadata": {
  "kernelspec": {
   "display_name": "Python 3",
   "language": "python",
   "name": "python3"
  },
  "language_info": {
   "codemirror_mode": {
    "name": "ipython",
    "version": 3
   },
   "file_extension": ".py",
   "mimetype": "text/x-python",
   "name": "python",
   "nbconvert_exporter": "python",
   "pygments_lexer": "ipython3",
   "version": "3.7.3"
  }
 },
 "nbformat": 4,
 "nbformat_minor": 2
}
